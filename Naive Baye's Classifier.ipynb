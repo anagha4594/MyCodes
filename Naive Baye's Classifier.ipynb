{
 "cells": [
  {
   "cell_type": "markdown",
   "metadata": {},
   "source": [
    "# Naive Baye's Classification\n",
    "* Each Independent variable shud be Normally distributed"
   ]
  },
  {
   "cell_type": "code",
   "execution_count": 24,
   "metadata": {},
   "outputs": [],
   "source": [
    "import   numpy                       as  np\n",
    "import   pandas                      as  pd\n"
   ]
  },
  {
   "cell_type": "code",
   "execution_count": 3,
   "metadata": {},
   "outputs": [],
   "source": [
    "c_age=[8,5,6,4,3]\n",
    "a_age=[27,30,32,24,23]\n",
    "c_height=[60,70,54,67,75]\n",
    "a_height=[160,172,180,156,166]\n",
    "df=pd.DataFrame({'Child_Age':c_age,'Child height':c_height,'Adult age':a_age,'Adult height':a_height})\n",
    "#exp=np.exp(-(x-mean)**2/(2*(sd**2)))\n",
    "#p=1/(np.sqrt(2*np.pi)*sd)*exp           "
   ]
  },
  {
   "cell_type": "code",
   "execution_count": 4,
   "metadata": {},
   "outputs": [
    {
     "data": {
      "text/html": [
       "<div>\n",
       "<style scoped>\n",
       "    .dataframe tbody tr th:only-of-type {\n",
       "        vertical-align: middle;\n",
       "    }\n",
       "\n",
       "    .dataframe tbody tr th {\n",
       "        vertical-align: top;\n",
       "    }\n",
       "\n",
       "    .dataframe thead th {\n",
       "        text-align: right;\n",
       "    }\n",
       "</style>\n",
       "<table border=\"1\" class=\"dataframe\">\n",
       "  <thead>\n",
       "    <tr style=\"text-align: right;\">\n",
       "      <th></th>\n",
       "      <th>count</th>\n",
       "      <th>mean</th>\n",
       "      <th>std</th>\n",
       "      <th>min</th>\n",
       "      <th>25%</th>\n",
       "      <th>50%</th>\n",
       "      <th>75%</th>\n",
       "      <th>max</th>\n",
       "    </tr>\n",
       "  </thead>\n",
       "  <tbody>\n",
       "    <tr>\n",
       "      <th>Child_Age</th>\n",
       "      <td>5.0</td>\n",
       "      <td>5.2</td>\n",
       "      <td>1.923538</td>\n",
       "      <td>3.0</td>\n",
       "      <td>4.0</td>\n",
       "      <td>5.0</td>\n",
       "      <td>6.0</td>\n",
       "      <td>8.0</td>\n",
       "    </tr>\n",
       "    <tr>\n",
       "      <th>Child height</th>\n",
       "      <td>5.0</td>\n",
       "      <td>65.2</td>\n",
       "      <td>8.288546</td>\n",
       "      <td>54.0</td>\n",
       "      <td>60.0</td>\n",
       "      <td>67.0</td>\n",
       "      <td>70.0</td>\n",
       "      <td>75.0</td>\n",
       "    </tr>\n",
       "    <tr>\n",
       "      <th>Adult age</th>\n",
       "      <td>5.0</td>\n",
       "      <td>27.2</td>\n",
       "      <td>3.834058</td>\n",
       "      <td>23.0</td>\n",
       "      <td>24.0</td>\n",
       "      <td>27.0</td>\n",
       "      <td>30.0</td>\n",
       "      <td>32.0</td>\n",
       "    </tr>\n",
       "    <tr>\n",
       "      <th>Adult height</th>\n",
       "      <td>5.0</td>\n",
       "      <td>166.8</td>\n",
       "      <td>9.549869</td>\n",
       "      <td>156.0</td>\n",
       "      <td>160.0</td>\n",
       "      <td>166.0</td>\n",
       "      <td>172.0</td>\n",
       "      <td>180.0</td>\n",
       "    </tr>\n",
       "  </tbody>\n",
       "</table>\n",
       "</div>"
      ],
      "text/plain": [
       "              count   mean       std    min    25%    50%    75%    max\n",
       "Child_Age       5.0    5.2  1.923538    3.0    4.0    5.0    6.0    8.0\n",
       "Child height    5.0   65.2  8.288546   54.0   60.0   67.0   70.0   75.0\n",
       "Adult age       5.0   27.2  3.834058   23.0   24.0   27.0   30.0   32.0\n",
       "Adult height    5.0  166.8  9.549869  156.0  160.0  166.0  172.0  180.0"
      ]
     },
     "execution_count": 4,
     "metadata": {},
     "output_type": "execute_result"
    }
   ],
   "source": [
    "df.describe().transpose()"
   ]
  },
  {
   "cell_type": "code",
   "execution_count": 11,
   "metadata": {},
   "outputs": [
    {
     "name": "stdout",
     "output_type": "stream",
     "text": [
      "Child Age:Mean 5.200000 and SD 1.720465\n",
      "Child Height:Mean 65.200000 and SD 7.413501\n",
      "Adult Age:Mean 27.200000 and SD 3.429286\n",
      "Adult Height:Mean 166.800000 and SD 8.541663\n"
     ]
    }
   ],
   "source": [
    "# summary stats\n",
    "m_ca=np.mean(c_age)\n",
    "m_ch=np.mean(c_height)\n",
    "s_ca=np.std(c_age)\n",
    "s_ch=np.std(c_height)\n",
    "print(\"Child Age:Mean %f and SD %f\"%(m_ca,s_ca))\n",
    "print(\"Child Height:Mean %f and SD %f\"%(m_ch,s_ch))\n",
    "\n",
    "\n",
    "m_Aa=np.mean(a_age)\n",
    "m_Ah=np.mean(a_height)\n",
    "s_Aa=np.std(a_age)\n",
    "s_Ah=np.std(a_height)\n",
    "print(\"Adult Age:Mean %f and SD %f\"%(m_Aa,s_Aa))\n",
    "print(\"Adult Height:Mean %f and SD %f\"%(m_Ah,s_Ah))\n"
   ]
  },
  {
   "cell_type": "code",
   "execution_count": 22,
   "metadata": {},
   "outputs": [],
   "source": [
    "def Propb(x,mean,sd):          \n",
    "        exp=np.exp(-(x-mean)**2/(2*(sd**2)))\n",
    "        p=1/(np.sqrt(2*np.pi)*sd)*exp  \n",
    "        #print(p)\n",
    "        return p    "
   ]
  },
  {
   "cell_type": "code",
   "execution_count": 23,
   "metadata": {},
   "outputs": [
    {
     "name": "stdout",
     "output_type": "stream",
     "text": [
      "2.377154053095364e-118\n",
      "8.655628103762673e-05\n"
     ]
    }
   ],
   "source": [
    "p1=Propb(35,m_ca,s_ca)* Propb(178,m_ch,s_ch)*0.5  # p(35/child) \n",
    "print(p1)\n",
    "p2=Propb(35,m_Aa,s_Aa)* Propb(178,m_Ah,s_Ah)*0.5  # p(35/child) \n",
    "print(p2)"
   ]
  },
  {
   "cell_type": "code",
   "execution_count": null,
   "metadata": {},
   "outputs": [],
   "source": []
  }
 ],
 "metadata": {
  "kernelspec": {
   "display_name": "Python 3",
   "language": "python",
   "name": "python3"
  },
  "language_info": {
   "codemirror_mode": {
    "name": "ipython",
    "version": 3
   },
   "file_extension": ".py",
   "mimetype": "text/x-python",
   "name": "python",
   "nbconvert_exporter": "python",
   "pygments_lexer": "ipython3",
   "version": "3.7.0"
  }
 },
 "nbformat": 4,
 "nbformat_minor": 2
}

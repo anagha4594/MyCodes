{
 "cells": [
  {
   "cell_type": "raw",
   "metadata": {},
   "source": [
    "How much percentage of employees left the company in different departments?\n",
    "How many employees got promoted in different salary ranges?\n",
    "How many employees, who got promoted left the company in different salary ranges?\n",
    "How many employees, who got promoted left the company in different departments?\n",
    "Average satisfaction level of the company of those who left?\n",
    "Average evaluation points of the company who stayed?\n",
    "Average monthly time spent by employees?\n",
    "Average number of projects that each employee works on?\n",
    "Average monthly hours spent by the employees who “left”?\n",
    "How many employees left after work accident?\n",
    "Which department has the highest satisfaction level?\n",
    "Which department’s employees have the best evaluation?"
   ]
  },
  {
   "cell_type": "code",
   "execution_count": 1,
   "metadata": {},
   "outputs": [],
   "source": [
    "from numpy import *\n",
    "import numpy as np\n",
    "import pandas as pd\n",
    "from pandas import DataFrame\n",
    "from pandas import Series\n",
    "import matplotlib.pyplot as plt\n",
    "import seaborn as sns"
   ]
  },
  {
   "cell_type": "code",
   "execution_count": null,
   "metadata": {},
   "outputs": [],
   "source": [
    "NEIC = pd.read_csv('earthquake.csv',sep = ',')\n",
    "NEIC.shape"
   ]
  }
 ],
 "metadata": {
  "kernelspec": {
   "display_name": "Python 2",
   "language": "python",
   "name": "python2"
  },
  "language_info": {
   "codemirror_mode": {
    "name": "ipython",
    "version": 2
   },
   "file_extension": ".py",
   "mimetype": "text/x-python",
   "name": "python",
   "nbconvert_exporter": "python",
   "pygments_lexer": "ipython2",
   "version": "2.7.15"
  }
 },
 "nbformat": 4,
 "nbformat_minor": 2
}

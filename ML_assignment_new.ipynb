{
 "cells": [
  {
   "cell_type": "code",
   "execution_count": 110,
   "metadata": {},
   "outputs": [],
   "source": [
    "import   numpy                       as  np\n",
    "import   pandas                      as  pd\n",
    "import   matplotlib.pyplot           as  plt\n",
    "import   seaborn                     as  sns\n",
    "%matplotlib inline\n",
    "import   scipy.stats                 as stats\n",
    "import   statsmodels.formula.api     as sm\n",
    "from     scipy.stats       import    zscore\n",
    "from     statsmodels.api   import    add_constant\n",
    "from     sklearn           import    metrics\n",
    "from     sklearn.tree      import    DecisionTreeClassifier\n",
    "from     sklearn           import    metrics,tree\n",
    "from     sklearn.model_selection import train_test_split\n",
    "from     IPython.display   import    Image\n",
    "from     os                import    system\n",
    "from     sklearn.model_selection import GridSearchCV\n",
    "from     sklearn.ensemble import RandomForestClassifier\n",
    "from     sklearn.preprocessing import StandardScaler\n",
    "from sklearn import model_selection\n",
    "from sklearn.naive_bayes import GaussianNB\n",
    "from sklearn.linear_model import LogisticRegression\n",
    "from sklearn.neighbors import KNeighborsClassifier"
   ]
  },
  {
   "cell_type": "code",
   "execution_count": 111,
   "metadata": {},
   "outputs": [
    {
     "data": {
      "text/html": [
       "<div>\n",
       "<style scoped>\n",
       "    .dataframe tbody tr th:only-of-type {\n",
       "        vertical-align: middle;\n",
       "    }\n",
       "\n",
       "    .dataframe tbody tr th {\n",
       "        vertical-align: top;\n",
       "    }\n",
       "\n",
       "    .dataframe thead th {\n",
       "        text-align: right;\n",
       "    }\n",
       "</style>\n",
       "<table border=\"1\" class=\"dataframe\">\n",
       "  <thead>\n",
       "    <tr style=\"text-align: right;\">\n",
       "      <th></th>\n",
       "      <th>Unnamed: 0</th>\n",
       "      <th>Age</th>\n",
       "      <th>Sex</th>\n",
       "      <th>ChestPain</th>\n",
       "      <th>RestBP</th>\n",
       "      <th>Chol</th>\n",
       "      <th>Fbs</th>\n",
       "      <th>RestECG</th>\n",
       "      <th>MaxHR</th>\n",
       "      <th>ExAng</th>\n",
       "      <th>Oldpeak</th>\n",
       "      <th>Slope</th>\n",
       "      <th>Ca</th>\n",
       "      <th>Thal</th>\n",
       "      <th>AHD</th>\n",
       "    </tr>\n",
       "  </thead>\n",
       "  <tbody>\n",
       "    <tr>\n",
       "      <th>0</th>\n",
       "      <td>1</td>\n",
       "      <td>63</td>\n",
       "      <td>1</td>\n",
       "      <td>typical</td>\n",
       "      <td>145</td>\n",
       "      <td>233</td>\n",
       "      <td>1</td>\n",
       "      <td>2</td>\n",
       "      <td>150</td>\n",
       "      <td>0</td>\n",
       "      <td>2.3</td>\n",
       "      <td>3</td>\n",
       "      <td>0.0</td>\n",
       "      <td>fixed</td>\n",
       "      <td>No</td>\n",
       "    </tr>\n",
       "    <tr>\n",
       "      <th>1</th>\n",
       "      <td>2</td>\n",
       "      <td>67</td>\n",
       "      <td>1</td>\n",
       "      <td>asymptomatic</td>\n",
       "      <td>160</td>\n",
       "      <td>286</td>\n",
       "      <td>0</td>\n",
       "      <td>2</td>\n",
       "      <td>108</td>\n",
       "      <td>1</td>\n",
       "      <td>1.5</td>\n",
       "      <td>2</td>\n",
       "      <td>3.0</td>\n",
       "      <td>normal</td>\n",
       "      <td>Yes</td>\n",
       "    </tr>\n",
       "    <tr>\n",
       "      <th>2</th>\n",
       "      <td>3</td>\n",
       "      <td>67</td>\n",
       "      <td>1</td>\n",
       "      <td>asymptomatic</td>\n",
       "      <td>120</td>\n",
       "      <td>229</td>\n",
       "      <td>0</td>\n",
       "      <td>2</td>\n",
       "      <td>129</td>\n",
       "      <td>1</td>\n",
       "      <td>2.6</td>\n",
       "      <td>2</td>\n",
       "      <td>2.0</td>\n",
       "      <td>reversable</td>\n",
       "      <td>Yes</td>\n",
       "    </tr>\n",
       "    <tr>\n",
       "      <th>3</th>\n",
       "      <td>4</td>\n",
       "      <td>37</td>\n",
       "      <td>1</td>\n",
       "      <td>nonanginal</td>\n",
       "      <td>130</td>\n",
       "      <td>250</td>\n",
       "      <td>0</td>\n",
       "      <td>0</td>\n",
       "      <td>187</td>\n",
       "      <td>0</td>\n",
       "      <td>3.5</td>\n",
       "      <td>3</td>\n",
       "      <td>0.0</td>\n",
       "      <td>normal</td>\n",
       "      <td>No</td>\n",
       "    </tr>\n",
       "    <tr>\n",
       "      <th>4</th>\n",
       "      <td>5</td>\n",
       "      <td>41</td>\n",
       "      <td>0</td>\n",
       "      <td>nontypical</td>\n",
       "      <td>130</td>\n",
       "      <td>204</td>\n",
       "      <td>0</td>\n",
       "      <td>2</td>\n",
       "      <td>172</td>\n",
       "      <td>0</td>\n",
       "      <td>1.4</td>\n",
       "      <td>1</td>\n",
       "      <td>0.0</td>\n",
       "      <td>normal</td>\n",
       "      <td>No</td>\n",
       "    </tr>\n",
       "  </tbody>\n",
       "</table>\n",
       "</div>"
      ],
      "text/plain": [
       "   Unnamed: 0  Age  Sex     ChestPain  RestBP  Chol  Fbs  RestECG  MaxHR  \\\n",
       "0           1   63    1       typical     145   233    1        2    150   \n",
       "1           2   67    1  asymptomatic     160   286    0        2    108   \n",
       "2           3   67    1  asymptomatic     120   229    0        2    129   \n",
       "3           4   37    1    nonanginal     130   250    0        0    187   \n",
       "4           5   41    0    nontypical     130   204    0        2    172   \n",
       "\n",
       "   ExAng  Oldpeak  Slope   Ca        Thal  AHD  \n",
       "0      0      2.3      3  0.0       fixed   No  \n",
       "1      1      1.5      2  3.0      normal  Yes  \n",
       "2      1      2.6      2  2.0  reversable  Yes  \n",
       "3      0      3.5      3  0.0      normal   No  \n",
       "4      0      1.4      1  0.0      normal   No  "
      ]
     },
     "execution_count": 111,
     "metadata": {},
     "output_type": "execute_result"
    }
   ],
   "source": [
    "heart=pd.read_csv('Heart.csv')\n",
    "heart.head()"
   ]
  },
  {
   "cell_type": "code",
   "execution_count": 112,
   "metadata": {},
   "outputs": [
    {
     "data": {
      "text/plain": [
       "(303, 15)"
      ]
     },
     "execution_count": 112,
     "metadata": {},
     "output_type": "execute_result"
    }
   ],
   "source": [
    "heart.shape"
   ]
  },
  {
   "cell_type": "code",
   "execution_count": 113,
   "metadata": {},
   "outputs": [],
   "source": [
    "Heart=heart.drop('Unnamed: 0',axis=1)"
   ]
  },
  {
   "cell_type": "code",
   "execution_count": 114,
   "metadata": {},
   "outputs": [
    {
     "name": "stdout",
     "output_type": "stream",
     "text": [
      "<class 'pandas.core.frame.DataFrame'>\n",
      "RangeIndex: 303 entries, 0 to 302\n",
      "Data columns (total 14 columns):\n",
      "Age          303 non-null int64\n",
      "Sex          303 non-null int64\n",
      "ChestPain    303 non-null object\n",
      "RestBP       303 non-null int64\n",
      "Chol         303 non-null int64\n",
      "Fbs          303 non-null int64\n",
      "RestECG      303 non-null int64\n",
      "MaxHR        303 non-null int64\n",
      "ExAng        303 non-null int64\n",
      "Oldpeak      303 non-null float64\n",
      "Slope        303 non-null int64\n",
      "Ca           299 non-null float64\n",
      "Thal         301 non-null object\n",
      "AHD          303 non-null object\n",
      "dtypes: float64(2), int64(9), object(3)\n",
      "memory usage: 33.2+ KB\n"
     ]
    }
   ],
   "source": [
    "Heart.info()"
   ]
  },
  {
   "cell_type": "raw",
   "metadata": {},
   "source": [
    "# Data Description\n",
    "\n",
    "Age          age: age in years     \n",
    "Sex          sex: sex (1 = male; 0 = female)      \n",
    "ChestPain    cp: chest pain type \n",
    "                    -- Value 1: typical angina \n",
    "                    -- Value 2: atypical angina \n",
    "                    -- Value 3: non-anginal pain \n",
    "                    -- Value 4: asymptomatic     \n",
    "    \n",
    "RestBP       resting blood pressure (in mm Hg on admission to the hospital) \n",
    "Chol         serum cholestoral in mg/dl \n",
    "Fbs          fbs: (fasting blood sugar > 120 mg/dl) (1 = true; 0 = false) \n",
    "RestECG     restecg: resting electrocardiographic results \n",
    "                    -- Value 0: normal \n",
    "                    -- Value 1: having ST-T wave abnormality (T wave inversions and/or ST elevation or depression of > 0.05 mV) \n",
    "                    -- Value 2: showing probable or definite left ventricular hypertrophy by Estes' criteria \n",
    "MaxHR        maximum heart rate achieved \n",
    "ExAng        exang: exercise induced angina (1 = yes; 0 = no) \n",
    "Oldpeak      oldpeak = ST depression induced by exercise relative to rest \n",
    "Slope        slope: the slope of the peak exercise ST segment \n",
    "                    -- Value 1: upsloping \n",
    "                    -- Value 2: flat \n",
    "                    -- Value 3: downsloping \n",
    "Ca           ca: number of major vessels (0-3) colored by flourosopy \n",
    "Thal         thal: 3 = normal; 6 = fixed defect; 7 = reversable defect \n",
    "AHD          diagnosis of heart disease "
   ]
  },
  {
   "cell_type": "code",
   "execution_count": 115,
   "metadata": {},
   "outputs": [
    {
     "data": {
      "text/plain": [
       "No     164\n",
       "Yes    139\n",
       "Name: AHD, dtype: int64"
      ]
     },
     "execution_count": 115,
     "metadata": {},
     "output_type": "execute_result"
    }
   ],
   "source": [
    "Heart.AHD.value_counts()"
   ]
  },
  {
   "cell_type": "code",
   "execution_count": 116,
   "metadata": {},
   "outputs": [
    {
     "data": {
      "text/html": [
       "<div>\n",
       "<style scoped>\n",
       "    .dataframe tbody tr th:only-of-type {\n",
       "        vertical-align: middle;\n",
       "    }\n",
       "\n",
       "    .dataframe tbody tr th {\n",
       "        vertical-align: top;\n",
       "    }\n",
       "\n",
       "    .dataframe thead th {\n",
       "        text-align: right;\n",
       "    }\n",
       "</style>\n",
       "<table border=\"1\" class=\"dataframe\">\n",
       "  <thead>\n",
       "    <tr style=\"text-align: right;\">\n",
       "      <th></th>\n",
       "      <th>count</th>\n",
       "      <th>unique</th>\n",
       "      <th>top</th>\n",
       "      <th>freq</th>\n",
       "      <th>mean</th>\n",
       "      <th>std</th>\n",
       "      <th>min</th>\n",
       "      <th>25%</th>\n",
       "      <th>50%</th>\n",
       "      <th>75%</th>\n",
       "      <th>max</th>\n",
       "    </tr>\n",
       "  </thead>\n",
       "  <tbody>\n",
       "    <tr>\n",
       "      <th>Age</th>\n",
       "      <td>303</td>\n",
       "      <td>NaN</td>\n",
       "      <td>NaN</td>\n",
       "      <td>NaN</td>\n",
       "      <td>54.4389</td>\n",
       "      <td>9.03866</td>\n",
       "      <td>29</td>\n",
       "      <td>48</td>\n",
       "      <td>56</td>\n",
       "      <td>61</td>\n",
       "      <td>77</td>\n",
       "    </tr>\n",
       "    <tr>\n",
       "      <th>Sex</th>\n",
       "      <td>303</td>\n",
       "      <td>NaN</td>\n",
       "      <td>NaN</td>\n",
       "      <td>NaN</td>\n",
       "      <td>0.679868</td>\n",
       "      <td>0.467299</td>\n",
       "      <td>0</td>\n",
       "      <td>0</td>\n",
       "      <td>1</td>\n",
       "      <td>1</td>\n",
       "      <td>1</td>\n",
       "    </tr>\n",
       "    <tr>\n",
       "      <th>ChestPain</th>\n",
       "      <td>303</td>\n",
       "      <td>4</td>\n",
       "      <td>asymptomatic</td>\n",
       "      <td>144</td>\n",
       "      <td>NaN</td>\n",
       "      <td>NaN</td>\n",
       "      <td>NaN</td>\n",
       "      <td>NaN</td>\n",
       "      <td>NaN</td>\n",
       "      <td>NaN</td>\n",
       "      <td>NaN</td>\n",
       "    </tr>\n",
       "    <tr>\n",
       "      <th>RestBP</th>\n",
       "      <td>303</td>\n",
       "      <td>NaN</td>\n",
       "      <td>NaN</td>\n",
       "      <td>NaN</td>\n",
       "      <td>131.69</td>\n",
       "      <td>17.5997</td>\n",
       "      <td>94</td>\n",
       "      <td>120</td>\n",
       "      <td>130</td>\n",
       "      <td>140</td>\n",
       "      <td>200</td>\n",
       "    </tr>\n",
       "    <tr>\n",
       "      <th>Chol</th>\n",
       "      <td>303</td>\n",
       "      <td>NaN</td>\n",
       "      <td>NaN</td>\n",
       "      <td>NaN</td>\n",
       "      <td>246.693</td>\n",
       "      <td>51.7769</td>\n",
       "      <td>126</td>\n",
       "      <td>211</td>\n",
       "      <td>241</td>\n",
       "      <td>275</td>\n",
       "      <td>564</td>\n",
       "    </tr>\n",
       "    <tr>\n",
       "      <th>Fbs</th>\n",
       "      <td>303</td>\n",
       "      <td>NaN</td>\n",
       "      <td>NaN</td>\n",
       "      <td>NaN</td>\n",
       "      <td>0.148515</td>\n",
       "      <td>0.356198</td>\n",
       "      <td>0</td>\n",
       "      <td>0</td>\n",
       "      <td>0</td>\n",
       "      <td>0</td>\n",
       "      <td>1</td>\n",
       "    </tr>\n",
       "    <tr>\n",
       "      <th>RestECG</th>\n",
       "      <td>303</td>\n",
       "      <td>NaN</td>\n",
       "      <td>NaN</td>\n",
       "      <td>NaN</td>\n",
       "      <td>0.990099</td>\n",
       "      <td>0.994971</td>\n",
       "      <td>0</td>\n",
       "      <td>0</td>\n",
       "      <td>1</td>\n",
       "      <td>2</td>\n",
       "      <td>2</td>\n",
       "    </tr>\n",
       "    <tr>\n",
       "      <th>MaxHR</th>\n",
       "      <td>303</td>\n",
       "      <td>NaN</td>\n",
       "      <td>NaN</td>\n",
       "      <td>NaN</td>\n",
       "      <td>149.607</td>\n",
       "      <td>22.875</td>\n",
       "      <td>71</td>\n",
       "      <td>133.5</td>\n",
       "      <td>153</td>\n",
       "      <td>166</td>\n",
       "      <td>202</td>\n",
       "    </tr>\n",
       "    <tr>\n",
       "      <th>ExAng</th>\n",
       "      <td>303</td>\n",
       "      <td>NaN</td>\n",
       "      <td>NaN</td>\n",
       "      <td>NaN</td>\n",
       "      <td>0.326733</td>\n",
       "      <td>0.469794</td>\n",
       "      <td>0</td>\n",
       "      <td>0</td>\n",
       "      <td>0</td>\n",
       "      <td>1</td>\n",
       "      <td>1</td>\n",
       "    </tr>\n",
       "    <tr>\n",
       "      <th>Oldpeak</th>\n",
       "      <td>303</td>\n",
       "      <td>NaN</td>\n",
       "      <td>NaN</td>\n",
       "      <td>NaN</td>\n",
       "      <td>1.0396</td>\n",
       "      <td>1.16108</td>\n",
       "      <td>0</td>\n",
       "      <td>0</td>\n",
       "      <td>0.8</td>\n",
       "      <td>1.6</td>\n",
       "      <td>6.2</td>\n",
       "    </tr>\n",
       "    <tr>\n",
       "      <th>Slope</th>\n",
       "      <td>303</td>\n",
       "      <td>NaN</td>\n",
       "      <td>NaN</td>\n",
       "      <td>NaN</td>\n",
       "      <td>1.60066</td>\n",
       "      <td>0.616226</td>\n",
       "      <td>1</td>\n",
       "      <td>1</td>\n",
       "      <td>2</td>\n",
       "      <td>2</td>\n",
       "      <td>3</td>\n",
       "    </tr>\n",
       "    <tr>\n",
       "      <th>Ca</th>\n",
       "      <td>299</td>\n",
       "      <td>NaN</td>\n",
       "      <td>NaN</td>\n",
       "      <td>NaN</td>\n",
       "      <td>0.672241</td>\n",
       "      <td>0.937438</td>\n",
       "      <td>0</td>\n",
       "      <td>0</td>\n",
       "      <td>0</td>\n",
       "      <td>1</td>\n",
       "      <td>3</td>\n",
       "    </tr>\n",
       "    <tr>\n",
       "      <th>Thal</th>\n",
       "      <td>301</td>\n",
       "      <td>3</td>\n",
       "      <td>normal</td>\n",
       "      <td>166</td>\n",
       "      <td>NaN</td>\n",
       "      <td>NaN</td>\n",
       "      <td>NaN</td>\n",
       "      <td>NaN</td>\n",
       "      <td>NaN</td>\n",
       "      <td>NaN</td>\n",
       "      <td>NaN</td>\n",
       "    </tr>\n",
       "    <tr>\n",
       "      <th>AHD</th>\n",
       "      <td>303</td>\n",
       "      <td>2</td>\n",
       "      <td>No</td>\n",
       "      <td>164</td>\n",
       "      <td>NaN</td>\n",
       "      <td>NaN</td>\n",
       "      <td>NaN</td>\n",
       "      <td>NaN</td>\n",
       "      <td>NaN</td>\n",
       "      <td>NaN</td>\n",
       "      <td>NaN</td>\n",
       "    </tr>\n",
       "  </tbody>\n",
       "</table>\n",
       "</div>"
      ],
      "text/plain": [
       "          count unique           top freq      mean       std  min    25%  \\\n",
       "Age         303    NaN           NaN  NaN   54.4389   9.03866   29     48   \n",
       "Sex         303    NaN           NaN  NaN  0.679868  0.467299    0      0   \n",
       "ChestPain   303      4  asymptomatic  144       NaN       NaN  NaN    NaN   \n",
       "RestBP      303    NaN           NaN  NaN    131.69   17.5997   94    120   \n",
       "Chol        303    NaN           NaN  NaN   246.693   51.7769  126    211   \n",
       "Fbs         303    NaN           NaN  NaN  0.148515  0.356198    0      0   \n",
       "RestECG     303    NaN           NaN  NaN  0.990099  0.994971    0      0   \n",
       "MaxHR       303    NaN           NaN  NaN   149.607    22.875   71  133.5   \n",
       "ExAng       303    NaN           NaN  NaN  0.326733  0.469794    0      0   \n",
       "Oldpeak     303    NaN           NaN  NaN    1.0396   1.16108    0      0   \n",
       "Slope       303    NaN           NaN  NaN   1.60066  0.616226    1      1   \n",
       "Ca          299    NaN           NaN  NaN  0.672241  0.937438    0      0   \n",
       "Thal        301      3        normal  166       NaN       NaN  NaN    NaN   \n",
       "AHD         303      2            No  164       NaN       NaN  NaN    NaN   \n",
       "\n",
       "           50%  75%  max  \n",
       "Age         56   61   77  \n",
       "Sex          1    1    1  \n",
       "ChestPain  NaN  NaN  NaN  \n",
       "RestBP     130  140  200  \n",
       "Chol       241  275  564  \n",
       "Fbs          0    0    1  \n",
       "RestECG      1    2    2  \n",
       "MaxHR      153  166  202  \n",
       "ExAng        0    1    1  \n",
       "Oldpeak    0.8  1.6  6.2  \n",
       "Slope        2    2    3  \n",
       "Ca           0    1    3  \n",
       "Thal       NaN  NaN  NaN  \n",
       "AHD        NaN  NaN  NaN  "
      ]
     },
     "execution_count": 116,
     "metadata": {},
     "output_type": "execute_result"
    }
   ],
   "source": [
    "Heart.describe(include='all').transpose()"
   ]
  },
  {
   "cell_type": "markdown",
   "metadata": {},
   "source": [
    "# NUll / Missing Value treatment -using Mode"
   ]
  },
  {
   "cell_type": "code",
   "execution_count": 117,
   "metadata": {},
   "outputs": [
    {
     "data": {
      "text/plain": [
       "Age          0\n",
       "Sex          0\n",
       "ChestPain    0\n",
       "RestBP       0\n",
       "Chol         0\n",
       "Fbs          0\n",
       "RestECG      0\n",
       "MaxHR        0\n",
       "ExAng        0\n",
       "Oldpeak      0\n",
       "Slope        0\n",
       "Ca           4\n",
       "Thal         2\n",
       "AHD          0\n",
       "dtype: int64"
      ]
     },
     "execution_count": 117,
     "metadata": {},
     "output_type": "execute_result"
    }
   ],
   "source": [
    "Heart.isnull().sum()"
   ]
  },
  {
   "cell_type": "code",
   "execution_count": 118,
   "metadata": {},
   "outputs": [
    {
     "data": {
      "text/html": [
       "<div>\n",
       "<style scoped>\n",
       "    .dataframe tbody tr th:only-of-type {\n",
       "        vertical-align: middle;\n",
       "    }\n",
       "\n",
       "    .dataframe tbody tr th {\n",
       "        vertical-align: top;\n",
       "    }\n",
       "\n",
       "    .dataframe thead th {\n",
       "        text-align: right;\n",
       "    }\n",
       "</style>\n",
       "<table border=\"1\" class=\"dataframe\">\n",
       "  <thead>\n",
       "    <tr style=\"text-align: right;\">\n",
       "      <th></th>\n",
       "      <th>Age</th>\n",
       "      <th>Sex</th>\n",
       "      <th>ChestPain</th>\n",
       "      <th>RestBP</th>\n",
       "      <th>Chol</th>\n",
       "      <th>Fbs</th>\n",
       "      <th>RestECG</th>\n",
       "      <th>MaxHR</th>\n",
       "      <th>ExAng</th>\n",
       "      <th>Oldpeak</th>\n",
       "      <th>Slope</th>\n",
       "      <th>Ca</th>\n",
       "      <th>Thal</th>\n",
       "      <th>AHD</th>\n",
       "    </tr>\n",
       "  </thead>\n",
       "  <tbody>\n",
       "    <tr>\n",
       "      <th>166</th>\n",
       "      <td>52</td>\n",
       "      <td>1</td>\n",
       "      <td>nonanginal</td>\n",
       "      <td>138</td>\n",
       "      <td>223</td>\n",
       "      <td>0</td>\n",
       "      <td>0</td>\n",
       "      <td>169</td>\n",
       "      <td>0</td>\n",
       "      <td>0.0</td>\n",
       "      <td>1</td>\n",
       "      <td>NaN</td>\n",
       "      <td>normal</td>\n",
       "      <td>No</td>\n",
       "    </tr>\n",
       "    <tr>\n",
       "      <th>192</th>\n",
       "      <td>43</td>\n",
       "      <td>1</td>\n",
       "      <td>asymptomatic</td>\n",
       "      <td>132</td>\n",
       "      <td>247</td>\n",
       "      <td>1</td>\n",
       "      <td>2</td>\n",
       "      <td>143</td>\n",
       "      <td>1</td>\n",
       "      <td>0.1</td>\n",
       "      <td>2</td>\n",
       "      <td>NaN</td>\n",
       "      <td>reversable</td>\n",
       "      <td>Yes</td>\n",
       "    </tr>\n",
       "    <tr>\n",
       "      <th>287</th>\n",
       "      <td>58</td>\n",
       "      <td>1</td>\n",
       "      <td>nontypical</td>\n",
       "      <td>125</td>\n",
       "      <td>220</td>\n",
       "      <td>0</td>\n",
       "      <td>0</td>\n",
       "      <td>144</td>\n",
       "      <td>0</td>\n",
       "      <td>0.4</td>\n",
       "      <td>2</td>\n",
       "      <td>NaN</td>\n",
       "      <td>reversable</td>\n",
       "      <td>No</td>\n",
       "    </tr>\n",
       "    <tr>\n",
       "      <th>302</th>\n",
       "      <td>38</td>\n",
       "      <td>1</td>\n",
       "      <td>nonanginal</td>\n",
       "      <td>138</td>\n",
       "      <td>175</td>\n",
       "      <td>0</td>\n",
       "      <td>0</td>\n",
       "      <td>173</td>\n",
       "      <td>0</td>\n",
       "      <td>0.0</td>\n",
       "      <td>1</td>\n",
       "      <td>NaN</td>\n",
       "      <td>normal</td>\n",
       "      <td>No</td>\n",
       "    </tr>\n",
       "  </tbody>\n",
       "</table>\n",
       "</div>"
      ],
      "text/plain": [
       "     Age  Sex     ChestPain  RestBP  Chol  Fbs  RestECG  MaxHR  ExAng  \\\n",
       "166   52    1    nonanginal     138   223    0        0    169      0   \n",
       "192   43    1  asymptomatic     132   247    1        2    143      1   \n",
       "287   58    1    nontypical     125   220    0        0    144      0   \n",
       "302   38    1    nonanginal     138   175    0        0    173      0   \n",
       "\n",
       "     Oldpeak  Slope  Ca        Thal  AHD  \n",
       "166      0.0      1 NaN      normal   No  \n",
       "192      0.1      2 NaN  reversable  Yes  \n",
       "287      0.4      2 NaN  reversable   No  \n",
       "302      0.0      1 NaN      normal   No  "
      ]
     },
     "execution_count": 118,
     "metadata": {},
     "output_type": "execute_result"
    }
   ],
   "source": [
    "Heart[Heart.Ca.isnull()]"
   ]
  },
  {
   "cell_type": "code",
   "execution_count": 119,
   "metadata": {},
   "outputs": [
    {
     "data": {
      "text/html": [
       "<div>\n",
       "<style scoped>\n",
       "    .dataframe tbody tr th:only-of-type {\n",
       "        vertical-align: middle;\n",
       "    }\n",
       "\n",
       "    .dataframe tbody tr th {\n",
       "        vertical-align: top;\n",
       "    }\n",
       "\n",
       "    .dataframe thead th {\n",
       "        text-align: right;\n",
       "    }\n",
       "</style>\n",
       "<table border=\"1\" class=\"dataframe\">\n",
       "  <thead>\n",
       "    <tr style=\"text-align: right;\">\n",
       "      <th></th>\n",
       "      <th>Age</th>\n",
       "      <th>Sex</th>\n",
       "      <th>ChestPain</th>\n",
       "      <th>RestBP</th>\n",
       "      <th>Chol</th>\n",
       "      <th>Fbs</th>\n",
       "      <th>RestECG</th>\n",
       "      <th>MaxHR</th>\n",
       "      <th>ExAng</th>\n",
       "      <th>Oldpeak</th>\n",
       "      <th>Slope</th>\n",
       "      <th>Ca</th>\n",
       "      <th>Thal</th>\n",
       "      <th>AHD</th>\n",
       "    </tr>\n",
       "  </thead>\n",
       "  <tbody>\n",
       "  </tbody>\n",
       "</table>\n",
       "</div>"
      ],
      "text/plain": [
       "Empty DataFrame\n",
       "Columns: [Age, Sex, ChestPain, RestBP, Chol, Fbs, RestECG, MaxHR, ExAng, Oldpeak, Slope, Ca, Thal, AHD]\n",
       "Index: []"
      ]
     },
     "execution_count": 119,
     "metadata": {},
     "output_type": "execute_result"
    }
   ],
   "source": [
    "Heart.Ca.fillna(Heart.Ca.median(),inplace=True)\n",
    "Heart[Heart.Ca.isnull()]"
   ]
  },
  {
   "cell_type": "code",
   "execution_count": 120,
   "metadata": {},
   "outputs": [
    {
     "data": {
      "text/html": [
       "<div>\n",
       "<style scoped>\n",
       "    .dataframe tbody tr th:only-of-type {\n",
       "        vertical-align: middle;\n",
       "    }\n",
       "\n",
       "    .dataframe tbody tr th {\n",
       "        vertical-align: top;\n",
       "    }\n",
       "\n",
       "    .dataframe thead th {\n",
       "        text-align: right;\n",
       "    }\n",
       "</style>\n",
       "<table border=\"1\" class=\"dataframe\">\n",
       "  <thead>\n",
       "    <tr style=\"text-align: right;\">\n",
       "      <th></th>\n",
       "      <th>Age</th>\n",
       "      <th>Sex</th>\n",
       "      <th>ChestPain</th>\n",
       "      <th>RestBP</th>\n",
       "      <th>Chol</th>\n",
       "      <th>Fbs</th>\n",
       "      <th>RestECG</th>\n",
       "      <th>MaxHR</th>\n",
       "      <th>ExAng</th>\n",
       "      <th>Oldpeak</th>\n",
       "      <th>Slope</th>\n",
       "      <th>Ca</th>\n",
       "      <th>Thal</th>\n",
       "      <th>AHD</th>\n",
       "    </tr>\n",
       "  </thead>\n",
       "  <tbody>\n",
       "    <tr>\n",
       "      <th>87</th>\n",
       "      <td>53</td>\n",
       "      <td>0</td>\n",
       "      <td>nonanginal</td>\n",
       "      <td>128</td>\n",
       "      <td>216</td>\n",
       "      <td>0</td>\n",
       "      <td>2</td>\n",
       "      <td>115</td>\n",
       "      <td>0</td>\n",
       "      <td>0.0</td>\n",
       "      <td>1</td>\n",
       "      <td>0.0</td>\n",
       "      <td>NaN</td>\n",
       "      <td>No</td>\n",
       "    </tr>\n",
       "    <tr>\n",
       "      <th>266</th>\n",
       "      <td>52</td>\n",
       "      <td>1</td>\n",
       "      <td>asymptomatic</td>\n",
       "      <td>128</td>\n",
       "      <td>204</td>\n",
       "      <td>1</td>\n",
       "      <td>0</td>\n",
       "      <td>156</td>\n",
       "      <td>1</td>\n",
       "      <td>1.0</td>\n",
       "      <td>2</td>\n",
       "      <td>0.0</td>\n",
       "      <td>NaN</td>\n",
       "      <td>Yes</td>\n",
       "    </tr>\n",
       "  </tbody>\n",
       "</table>\n",
       "</div>"
      ],
      "text/plain": [
       "     Age  Sex     ChestPain  RestBP  Chol  Fbs  RestECG  MaxHR  ExAng  \\\n",
       "87    53    0    nonanginal     128   216    0        2    115      0   \n",
       "266   52    1  asymptomatic     128   204    1        0    156      1   \n",
       "\n",
       "     Oldpeak  Slope   Ca Thal  AHD  \n",
       "87       0.0      1  0.0  NaN   No  \n",
       "266      1.0      2  0.0  NaN  Yes  "
      ]
     },
     "execution_count": 120,
     "metadata": {},
     "output_type": "execute_result"
    }
   ],
   "source": [
    "Heart[Heart.Thal.isnull()]"
   ]
  },
  {
   "cell_type": "code",
   "execution_count": 121,
   "metadata": {},
   "outputs": [
    {
     "data": {
      "text/plain": [
       "0    normal\n",
       "dtype: object"
      ]
     },
     "execution_count": 121,
     "metadata": {},
     "output_type": "execute_result"
    }
   ],
   "source": [
    "Heart.Thal.mode()"
   ]
  },
  {
   "cell_type": "code",
   "execution_count": 122,
   "metadata": {},
   "outputs": [
    {
     "data": {
      "text/html": [
       "<div>\n",
       "<style scoped>\n",
       "    .dataframe tbody tr th:only-of-type {\n",
       "        vertical-align: middle;\n",
       "    }\n",
       "\n",
       "    .dataframe tbody tr th {\n",
       "        vertical-align: top;\n",
       "    }\n",
       "\n",
       "    .dataframe thead th {\n",
       "        text-align: right;\n",
       "    }\n",
       "</style>\n",
       "<table border=\"1\" class=\"dataframe\">\n",
       "  <thead>\n",
       "    <tr style=\"text-align: right;\">\n",
       "      <th></th>\n",
       "      <th>Age</th>\n",
       "      <th>Sex</th>\n",
       "      <th>ChestPain</th>\n",
       "      <th>RestBP</th>\n",
       "      <th>Chol</th>\n",
       "      <th>Fbs</th>\n",
       "      <th>RestECG</th>\n",
       "      <th>MaxHR</th>\n",
       "      <th>ExAng</th>\n",
       "      <th>Oldpeak</th>\n",
       "      <th>Slope</th>\n",
       "      <th>Ca</th>\n",
       "      <th>Thal</th>\n",
       "      <th>AHD</th>\n",
       "    </tr>\n",
       "  </thead>\n",
       "  <tbody>\n",
       "  </tbody>\n",
       "</table>\n",
       "</div>"
      ],
      "text/plain": [
       "Empty DataFrame\n",
       "Columns: [Age, Sex, ChestPain, RestBP, Chol, Fbs, RestECG, MaxHR, ExAng, Oldpeak, Slope, Ca, Thal, AHD]\n",
       "Index: []"
      ]
     },
     "execution_count": 122,
     "metadata": {},
     "output_type": "execute_result"
    }
   ],
   "source": [
    "Heart.Thal.fillna('normal',inplace=True)\n",
    "Heart[Heart.Thal.isnull()]"
   ]
  },
  {
   "cell_type": "code",
   "execution_count": 123,
   "metadata": {},
   "outputs": [
    {
     "data": {
      "text/plain": [
       "Age          0\n",
       "Sex          0\n",
       "ChestPain    0\n",
       "RestBP       0\n",
       "Chol         0\n",
       "Fbs          0\n",
       "RestECG      0\n",
       "MaxHR        0\n",
       "ExAng        0\n",
       "Oldpeak      0\n",
       "Slope        0\n",
       "Ca           0\n",
       "Thal         0\n",
       "AHD          0\n",
       "dtype: int64"
      ]
     },
     "execution_count": 123,
     "metadata": {},
     "output_type": "execute_result"
    }
   ],
   "source": [
    "Heart.isnull().sum()"
   ]
  },
  {
   "cell_type": "code",
   "execution_count": 124,
   "metadata": {},
   "outputs": [
    {
     "data": {
      "text/plain": [
       "Age            int64\n",
       "Sex            int64\n",
       "ChestPain     object\n",
       "RestBP         int64\n",
       "Chol           int64\n",
       "Fbs            int64\n",
       "RestECG        int64\n",
       "MaxHR          int64\n",
       "ExAng          int64\n",
       "Oldpeak      float64\n",
       "Slope          int64\n",
       "Ca           float64\n",
       "Thal          object\n",
       "AHD            int64\n",
       "dtype: object"
      ]
     },
     "execution_count": 124,
     "metadata": {},
     "output_type": "execute_result"
    }
   ],
   "source": [
    "# converting the output /Dependent variable into categorical variable in terms of 1's and 0's\n",
    "Heart.AHD=Heart.AHD.astype('category')\n",
    "Heart.AHD=Heart.AHD.replace({'Yes':1,'No':0})\n",
    "Heart.dtypes"
   ]
  },
  {
   "cell_type": "code",
   "execution_count": null,
   "metadata": {},
   "outputs": [],
   "source": []
  },
  {
   "cell_type": "code",
   "execution_count": 125,
   "metadata": {},
   "outputs": [
    {
     "data": {
      "text/plain": [
       "Index(['Age', 'Sex', 'RestBP', 'Chol', 'Fbs', 'RestECG', 'MaxHR', 'ExAng',\n",
       "       'Oldpeak', 'Slope', 'Ca', 'AHD', 'ChestPain_nonanginal',\n",
       "       'ChestPain_nontypical', 'ChestPain_typical', 'Thal_normal',\n",
       "       'Thal_reversable'],\n",
       "      dtype='object')"
      ]
     },
     "execution_count": 125,
     "metadata": {},
     "output_type": "execute_result"
    }
   ],
   "source": [
    "# converting categotical variable into numberical values\n",
    "New=pd.get_dummies(Heart,columns=['ChestPain','Thal'],drop_first=True)\n",
    "New.columns"
   ]
  },
  {
   "cell_type": "markdown",
   "metadata": {},
   "source": [
    "# Correlation Heatmap"
   ]
  },
  {
   "cell_type": "code",
   "execution_count": 126,
   "metadata": {},
   "outputs": [
    {
     "data": {
      "image/png": "[encoded data removed]",
      "text/plain": [
       "<Figure size 864x720 with 2 Axes>"
      ]
     },
     "metadata": {
      "needs_background": "light"
     },
     "output_type": "display_data"
    }
   ],
   "source": [
    "plt.figure(figsize=[12,10])\n",
    "sns.heatmap(New.corr(),annot = True)\n",
    "plt.show()"
   ]
  },
  {
   "cell_type": "markdown",
   "metadata": {},
   "source": [
    "# Modelling using all the Independent  attributes"
   ]
  },
  {
   "cell_type": "code",
   "execution_count": 127,
   "metadata": {},
   "outputs": [
    {
     "data": {
      "text/html": [
       "<div>\n",
       "<style scoped>\n",
       "    .dataframe tbody tr th:only-of-type {\n",
       "        vertical-align: middle;\n",
       "    }\n",
       "\n",
       "    .dataframe tbody tr th {\n",
       "        vertical-align: top;\n",
       "    }\n",
       "\n",
       "    .dataframe thead th {\n",
       "        text-align: right;\n",
       "    }\n",
       "</style>\n",
       "<table border=\"1\" class=\"dataframe\">\n",
       "  <thead>\n",
       "    <tr style=\"text-align: right;\">\n",
       "      <th></th>\n",
       "      <th>Age</th>\n",
       "      <th>Sex</th>\n",
       "      <th>RestBP</th>\n",
       "      <th>Chol</th>\n",
       "      <th>Fbs</th>\n",
       "      <th>RestECG</th>\n",
       "      <th>MaxHR</th>\n",
       "      <th>ExAng</th>\n",
       "      <th>Oldpeak</th>\n",
       "      <th>Slope</th>\n",
       "      <th>Ca</th>\n",
       "      <th>ChestPain_nonanginal</th>\n",
       "      <th>ChestPain_nontypical</th>\n",
       "      <th>ChestPain_typical</th>\n",
       "      <th>Thal_normal</th>\n",
       "      <th>Thal_reversable</th>\n",
       "    </tr>\n",
       "  </thead>\n",
       "  <tbody>\n",
       "    <tr>\n",
       "      <th>0</th>\n",
       "      <td>63</td>\n",
       "      <td>1</td>\n",
       "      <td>145</td>\n",
       "      <td>233</td>\n",
       "      <td>1</td>\n",
       "      <td>2</td>\n",
       "      <td>150</td>\n",
       "      <td>0</td>\n",
       "      <td>2.3</td>\n",
       "      <td>3</td>\n",
       "      <td>0.0</td>\n",
       "      <td>0</td>\n",
       "      <td>0</td>\n",
       "      <td>1</td>\n",
       "      <td>0</td>\n",
       "      <td>0</td>\n",
       "    </tr>\n",
       "    <tr>\n",
       "      <th>1</th>\n",
       "      <td>67</td>\n",
       "      <td>1</td>\n",
       "      <td>160</td>\n",
       "      <td>286</td>\n",
       "      <td>0</td>\n",
       "      <td>2</td>\n",
       "      <td>108</td>\n",
       "      <td>1</td>\n",
       "      <td>1.5</td>\n",
       "      <td>2</td>\n",
       "      <td>3.0</td>\n",
       "      <td>0</td>\n",
       "      <td>0</td>\n",
       "      <td>0</td>\n",
       "      <td>1</td>\n",
       "      <td>0</td>\n",
       "    </tr>\n",
       "    <tr>\n",
       "      <th>2</th>\n",
       "      <td>67</td>\n",
       "      <td>1</td>\n",
       "      <td>120</td>\n",
       "      <td>229</td>\n",
       "      <td>0</td>\n",
       "      <td>2</td>\n",
       "      <td>129</td>\n",
       "      <td>1</td>\n",
       "      <td>2.6</td>\n",
       "      <td>2</td>\n",
       "      <td>2.0</td>\n",
       "      <td>0</td>\n",
       "      <td>0</td>\n",
       "      <td>0</td>\n",
       "      <td>0</td>\n",
       "      <td>1</td>\n",
       "    </tr>\n",
       "    <tr>\n",
       "      <th>3</th>\n",
       "      <td>37</td>\n",
       "      <td>1</td>\n",
       "      <td>130</td>\n",
       "      <td>250</td>\n",
       "      <td>0</td>\n",
       "      <td>0</td>\n",
       "      <td>187</td>\n",
       "      <td>0</td>\n",
       "      <td>3.5</td>\n",
       "      <td>3</td>\n",
       "      <td>0.0</td>\n",
       "      <td>1</td>\n",
       "      <td>0</td>\n",
       "      <td>0</td>\n",
       "      <td>1</td>\n",
       "      <td>0</td>\n",
       "    </tr>\n",
       "    <tr>\n",
       "      <th>4</th>\n",
       "      <td>41</td>\n",
       "      <td>0</td>\n",
       "      <td>130</td>\n",
       "      <td>204</td>\n",
       "      <td>0</td>\n",
       "      <td>2</td>\n",
       "      <td>172</td>\n",
       "      <td>0</td>\n",
       "      <td>1.4</td>\n",
       "      <td>1</td>\n",
       "      <td>0.0</td>\n",
       "      <td>0</td>\n",
       "      <td>1</td>\n",
       "      <td>0</td>\n",
       "      <td>1</td>\n",
       "      <td>0</td>\n",
       "    </tr>\n",
       "  </tbody>\n",
       "</table>\n",
       "</div>"
      ],
      "text/plain": [
       "   Age  Sex  RestBP  Chol  Fbs  RestECG  MaxHR  ExAng  Oldpeak  Slope   Ca  \\\n",
       "0   63    1     145   233    1        2    150      0      2.3      3  0.0   \n",
       "1   67    1     160   286    0        2    108      1      1.5      2  3.0   \n",
       "2   67    1     120   229    0        2    129      1      2.6      2  2.0   \n",
       "3   37    1     130   250    0        0    187      0      3.5      3  0.0   \n",
       "4   41    0     130   204    0        2    172      0      1.4      1  0.0   \n",
       "\n",
       "   ChestPain_nonanginal  ChestPain_nontypical  ChestPain_typical  Thal_normal  \\\n",
       "0                     0                     0                  1            0   \n",
       "1                     0                     0                  0            1   \n",
       "2                     0                     0                  0            0   \n",
       "3                     1                     0                  0            1   \n",
       "4                     0                     1                  0            1   \n",
       "\n",
       "   Thal_reversable  \n",
       "0                0  \n",
       "1                0  \n",
       "2                1  \n",
       "3                0  \n",
       "4                0  "
      ]
     },
     "execution_count": 127,
     "metadata": {},
     "output_type": "execute_result"
    }
   ],
   "source": [
    "# IDV's and DV\n",
    "x=New.drop('AHD',axis=1)\n",
    "y=New.AHD\n",
    "x.head()"
   ]
  },
  {
   "cell_type": "markdown",
   "metadata": {},
   "source": [
    "# Train -Test Split for Data Modelling"
   ]
  },
  {
   "cell_type": "code",
   "execution_count": 128,
   "metadata": {},
   "outputs": [],
   "source": [
    "# Train=70% and Test =30%\n",
    "x_train,x_test,y_train,y_test = train_test_split(x,y,test_size = 0.3,random_state = 1)"
   ]
  },
  {
   "cell_type": "code",
   "execution_count": 129,
   "metadata": {},
   "outputs": [
    {
     "data": {
      "text/plain": [
       "(212, 16)"
      ]
     },
     "execution_count": 129,
     "metadata": {},
     "output_type": "execute_result"
    }
   ],
   "source": [
    "x_train.shape"
   ]
  },
  {
   "cell_type": "code",
   "execution_count": 130,
   "metadata": {},
   "outputs": [
    {
     "data": {
      "text/plain": [
       "(91, 16)"
      ]
     },
     "execution_count": 130,
     "metadata": {},
     "output_type": "execute_result"
    }
   ],
   "source": [
    "x_test.shape"
   ]
  },
  {
   "cell_type": "code",
   "execution_count": 131,
   "metadata": {},
   "outputs": [
    {
     "data": {
      "text/html": [
       "<div>\n",
       "<style scoped>\n",
       "    .dataframe tbody tr th:only-of-type {\n",
       "        vertical-align: middle;\n",
       "    }\n",
       "\n",
       "    .dataframe tbody tr th {\n",
       "        vertical-align: top;\n",
       "    }\n",
       "\n",
       "    .dataframe thead th {\n",
       "        text-align: right;\n",
       "    }\n",
       "</style>\n",
       "<table border=\"1\" class=\"dataframe\">\n",
       "  <thead>\n",
       "    <tr style=\"text-align: right;\">\n",
       "      <th>col_0</th>\n",
       "      <th>0</th>\n",
       "      <th>1</th>\n",
       "    </tr>\n",
       "    <tr>\n",
       "      <th>AHD</th>\n",
       "      <th></th>\n",
       "      <th></th>\n",
       "    </tr>\n",
       "  </thead>\n",
       "  <tbody>\n",
       "    <tr>\n",
       "      <th>0</th>\n",
       "      <td>107</td>\n",
       "      <td>8</td>\n",
       "    </tr>\n",
       "    <tr>\n",
       "      <th>1</th>\n",
       "      <td>20</td>\n",
       "      <td>77</td>\n",
       "    </tr>\n",
       "  </tbody>\n",
       "</table>\n",
       "</div>"
      ],
      "text/plain": [
       "col_0    0   1\n",
       "AHD           \n",
       "0      107   8\n",
       "1       20  77"
      ]
     },
     "execution_count": 131,
     "metadata": {},
     "output_type": "execute_result"
    }
   ],
   "source": [
    "# Logistic Regression Model\n",
    "lr= LogisticRegression() \n",
    "lr.fit(x_train,y_train) # fitting data into the model\n",
    "pred_train = lr.predict(x_train) # Predicting with X_train\n",
    "a_train = pd.crosstab(y_train,pred_train) # Confusion matrix between Y train and Y predicted\n",
    "a_train"
   ]
  },
  {
   "cell_type": "code",
   "execution_count": 132,
   "metadata": {},
   "outputs": [
    {
     "data": {
      "text/html": [
       "<div>\n",
       "<style scoped>\n",
       "    .dataframe tbody tr th:only-of-type {\n",
       "        vertical-align: middle;\n",
       "    }\n",
       "\n",
       "    .dataframe tbody tr th {\n",
       "        vertical-align: top;\n",
       "    }\n",
       "\n",
       "    .dataframe thead th {\n",
       "        text-align: right;\n",
       "    }\n",
       "</style>\n",
       "<table border=\"1\" class=\"dataframe\">\n",
       "  <thead>\n",
       "    <tr style=\"text-align: right;\">\n",
       "      <th>col_0</th>\n",
       "      <th>0</th>\n",
       "      <th>1</th>\n",
       "    </tr>\n",
       "    <tr>\n",
       "      <th>AHD</th>\n",
       "      <th></th>\n",
       "      <th></th>\n",
       "    </tr>\n",
       "  </thead>\n",
       "  <tbody>\n",
       "    <tr>\n",
       "      <th>0</th>\n",
       "      <td>45</td>\n",
       "      <td>4</td>\n",
       "    </tr>\n",
       "    <tr>\n",
       "      <th>1</th>\n",
       "      <td>6</td>\n",
       "      <td>36</td>\n",
       "    </tr>\n",
       "  </tbody>\n",
       "</table>\n",
       "</div>"
      ],
      "text/plain": [
       "col_0   0   1\n",
       "AHD          \n",
       "0      45   4\n",
       "1       6  36"
      ]
     },
     "execution_count": 132,
     "metadata": {},
     "output_type": "execute_result"
    }
   ],
   "source": [
    "pred_test = lr.predict(x_test) # predicting using x_test\n",
    "a_test = pd.crosstab(y_test,pred_test) # confusion matrix between y_test and y_pred\n",
    "a_test=pd.DataFrame(a_test)\n",
    "a_test\n"
   ]
  },
  {
   "cell_type": "code",
   "execution_count": 133,
   "metadata": {},
   "outputs": [
    {
     "name": "stdout",
     "output_type": "stream",
     "text": [
      " Accuracy :89.01\n",
      "\n",
      " Error :10.99\n",
      "\n",
      " Sensitivity :85.71\n",
      "\n",
      " Precision :90.00\n",
      "\n",
      " Specificity :91.84\n"
     ]
    }
   ],
   "source": [
    "# Model evaluation using diff parameters\n",
    "TN = a_test[0][0]\n",
    "FN = a_test[0][1]\n",
    "FP = a_test[1][0]\n",
    "TP = a_test[1][1]\n",
    "Total = a_test.sum().sum()\n",
    "acc_test = (TP + TN) / Total\n",
    "print(' Accuracy :%1.2f'%(acc_test*100))\n",
    "err_test = (FP + FN) / Total\n",
    "print('\\n Error :%1.2f'%(err_test*100))\n",
    "sens_test = (TP / (TP + FN))\n",
    "print('\\n Sensitivity :%1.2f'%(sens_test*100))\n",
    "precision_test = (TP) / (TP + FP)\n",
    "print('\\n Precision :%1.2f'%(precision_test*100))\n",
    "specificity_test = (TN) / (TN + FP)\n",
    "print('\\n Specificity :%1.2f'%(specificity_test*100))"
   ]
  },
  {
   "cell_type": "markdown",
   "metadata": {},
   "source": [
    "# Model Summary "
   ]
  },
  {
   "cell_type": "code",
   "execution_count": 134,
   "metadata": {},
   "outputs": [
    {
     "name": "stdout",
     "output_type": "stream",
     "text": [
      "Optimization terminated successfully.\n",
      "         Current function value: 0.344101\n",
      "         Iterations 7\n",
      "                           Logit Regression Results                           \n",
      "==============================================================================\n",
      "Dep. Variable:                    AHD   No. Observations:                  212\n",
      "Model:                          Logit   Df Residuals:                      195\n",
      "Method:                           MLE   Df Model:                           16\n",
      "Date:                Fri, 11 Jan 2019   Pseudo R-squ.:                  0.5010\n",
      "Time:                        19:05:50   Log-Likelihood:                -72.949\n",
      "converged:                       True   LL-Null:                       -146.18\n",
      "                                        LLR p-value:                 3.880e-23\n",
      "========================================================================================\n",
      "                           coef    std err          z      P>|z|      [0.025      0.975]\n",
      "----------------------------------------------------------------------------------------\n",
      "const                   -2.7735      3.223     -0.861      0.389      -9.091       3.543\n",
      "Age                     -0.0109      0.029     -0.371      0.711      -0.069       0.047\n",
      "Sex                      1.7194      0.591      2.910      0.004       0.561       2.878\n",
      "RestBP                   0.0150      0.012      1.217      0.223      -0.009       0.039\n",
      "Chol                     0.0048      0.004      1.155      0.248      -0.003       0.013\n",
      "Fbs                     -0.0861      0.652     -0.132      0.895      -1.365       1.192\n",
      "RestECG                  0.1369      0.224      0.611      0.541      -0.303       0.576\n",
      "MaxHR                   -0.0239      0.012     -1.956      0.050      -0.048    5.02e-05\n",
      "ExAng                    0.8987      0.520      1.729      0.084      -0.120       1.917\n",
      "Oldpeak                  0.4666      0.259      1.800      0.072      -0.042       0.975\n",
      "Slope                    0.3918      0.460      0.853      0.394      -0.509       1.293\n",
      "Ca                       1.0878      0.323      3.372      0.001       0.456       1.720\n",
      "ChestPain_nonanginal    -1.5828      0.552     -2.866      0.004      -2.665      -0.500\n",
      "ChestPain_nontypical    -1.5647      0.783     -1.998      0.046      -3.100      -0.030\n",
      "ChestPain_typical       -1.5396      0.728     -2.116      0.034      -2.966      -0.114\n",
      "Thal_normal              0.8777      0.977      0.898      0.369      -1.037       2.793\n",
      "Thal_reversable          1.7316      0.941      1.840      0.066      -0.113       3.576\n",
      "========================================================================================\n"
     ]
    }
   ],
   "source": [
    "x1 = add_constant(x_train)\n",
    "logit = sm.Logit(y_train,x1)\n",
    "result = logit.fit()\n",
    "print(result.summary())"
   ]
  },
  {
   "cell_type": "markdown",
   "metadata": {},
   "source": [
    "# AUC and ROC curve"
   ]
  },
  {
   "cell_type": "code",
   "execution_count": 135,
   "metadata": {},
   "outputs": [
    {
     "name": "stdout",
     "output_type": "stream",
     "text": [
      "The AUC for LOR is :88.78\n"
     ]
    },
    {
     "name": "stderr",
     "output_type": "stream",
     "text": [
      "C:\\Users\\HII\\Anaconda3\\lib\\site-packages\\matplotlib\\cbook\\deprecation.py:107: MatplotlibDeprecationWarning: Adding an axes using the same arguments as a previous axes currently reuses the earlier instance.  In a future version, a new instance will always be created and returned.  Meanwhile, this warning can be suppressed, and the future behavior ensured, by passing a unique label to each axes instance.\n",
      "  warnings.warn(message, mplDeprecation, stacklevel=1)\n"
     ]
    },
    {
     "data": {
      "image/png": "[encoded data removed]",
      "text/plain": [
       "<Figure size 432x288 with 1 Axes>"
      ]
     },
     "metadata": {
      "needs_background": "light"
     },
     "output_type": "display_data"
    }
   ],
   "source": [
    "fpr,tpr,threshold = metrics.roc_curve(y_test,pred_test)\n",
    "plt.plot(fpr,tpr,label = 'Roc curve',color = 'b')\n",
    "plt.axes().set_aspect('equal')\n",
    "plt.xlim([-0.05,1.05])\n",
    "plt.ylim([-0.05,1.05])\n",
    "AUC = metrics.auc(fpr,tpr)\n",
    "print(\"The AUC for LOR is :%1.2f\"%(AUC*100))"
   ]
  },
  {
   "cell_type": "code",
   "execution_count": null,
   "metadata": {},
   "outputs": [],
   "source": []
  },
  {
   "cell_type": "code",
   "execution_count": null,
   "metadata": {},
   "outputs": [],
   "source": []
  },
  {
   "cell_type": "markdown",
   "metadata": {},
   "source": [
    "# Another Iteration-By removing certain attributes with high p value\n"
   ]
  },
  {
   "cell_type": "code",
   "execution_count": 136,
   "metadata": {},
   "outputs": [
    {
     "data": {
      "text/plain": [
       "\"New['Sex'] =New['Sex'].astype('category')\\nNew['Fbs'] = New['Fbs'].astype('category')\\nNew['RestECG'] =New['RestECG'].astype('category')\\nNew['ExAng'] = New['ExAng'].astype('category')\\nNew['Slope'] = New['Slope'].astype('category')\""
      ]
     },
     "execution_count": 136,
     "metadata": {},
     "output_type": "execute_result"
    }
   ],
   "source": [
    "'''New['Sex'] =New['Sex'].astype('category')\n",
    "New['Fbs'] = New['Fbs'].astype('category')\n",
    "New['RestECG'] =New['RestECG'].astype('category')\n",
    "New['ExAng'] = New['ExAng'].astype('category')\n",
    "New['Slope'] = New['Slope'].astype('category')'''"
   ]
  },
  {
   "cell_type": "markdown",
   "metadata": {},
   "source": [
    "# Modelling using few Independent  attributes"
   ]
  },
  {
   "cell_type": "code",
   "execution_count": 137,
   "metadata": {},
   "outputs": [
    {
     "data": {
      "text/html": [
       "<div>\n",
       "<style scoped>\n",
       "    .dataframe tbody tr th:only-of-type {\n",
       "        vertical-align: middle;\n",
       "    }\n",
       "\n",
       "    .dataframe tbody tr th {\n",
       "        vertical-align: top;\n",
       "    }\n",
       "\n",
       "    .dataframe thead th {\n",
       "        text-align: right;\n",
       "    }\n",
       "</style>\n",
       "<table border=\"1\" class=\"dataframe\">\n",
       "  <thead>\n",
       "    <tr style=\"text-align: right;\">\n",
       "      <th></th>\n",
       "      <th>Sex</th>\n",
       "      <th>MaxHR</th>\n",
       "      <th>ExAng</th>\n",
       "      <th>Oldpeak</th>\n",
       "      <th>Ca</th>\n",
       "      <th>Thal_reversable</th>\n",
       "    </tr>\n",
       "  </thead>\n",
       "  <tbody>\n",
       "    <tr>\n",
       "      <th>0</th>\n",
       "      <td>1</td>\n",
       "      <td>150</td>\n",
       "      <td>0</td>\n",
       "      <td>2.3</td>\n",
       "      <td>0.0</td>\n",
       "      <td>0</td>\n",
       "    </tr>\n",
       "    <tr>\n",
       "      <th>1</th>\n",
       "      <td>1</td>\n",
       "      <td>108</td>\n",
       "      <td>1</td>\n",
       "      <td>1.5</td>\n",
       "      <td>3.0</td>\n",
       "      <td>0</td>\n",
       "    </tr>\n",
       "    <tr>\n",
       "      <th>2</th>\n",
       "      <td>1</td>\n",
       "      <td>129</td>\n",
       "      <td>1</td>\n",
       "      <td>2.6</td>\n",
       "      <td>2.0</td>\n",
       "      <td>1</td>\n",
       "    </tr>\n",
       "    <tr>\n",
       "      <th>3</th>\n",
       "      <td>1</td>\n",
       "      <td>187</td>\n",
       "      <td>0</td>\n",
       "      <td>3.5</td>\n",
       "      <td>0.0</td>\n",
       "      <td>0</td>\n",
       "    </tr>\n",
       "    <tr>\n",
       "      <th>4</th>\n",
       "      <td>0</td>\n",
       "      <td>172</td>\n",
       "      <td>0</td>\n",
       "      <td>1.4</td>\n",
       "      <td>0.0</td>\n",
       "      <td>0</td>\n",
       "    </tr>\n",
       "  </tbody>\n",
       "</table>\n",
       "</div>"
      ],
      "text/plain": [
       "   Sex  MaxHR  ExAng  Oldpeak   Ca  Thal_reversable\n",
       "0    1    150      0      2.3  0.0                0\n",
       "1    1    108      1      1.5  3.0                0\n",
       "2    1    129      1      2.6  2.0                1\n",
       "3    1    187      0      3.5  0.0                0\n",
       "4    0    172      0      1.4  0.0                0"
      ]
     },
     "execution_count": 137,
     "metadata": {},
     "output_type": "execute_result"
    }
   ],
   "source": [
    "# IDV's and DV 1\n",
    "x1=New.drop(['AHD','Fbs','Age','RestECG','Slope','Thal_normal','RestBP','Chol','ChestPain_typical','ChestPain_nontypical','ChestPain_nonanginal'],axis=1)\n",
    "y1=New.AHD\n",
    "x1.head()"
   ]
  },
  {
   "cell_type": "markdown",
   "metadata": {},
   "source": [
    "# Train -Test Split for Data Modelling"
   ]
  },
  {
   "cell_type": "code",
   "execution_count": 138,
   "metadata": {},
   "outputs": [],
   "source": [
    "x1_train,x1_test,y1_train,y1_test = train_test_split(x1,y1,test_size = 0.3,random_state = 1)"
   ]
  },
  {
   "cell_type": "code",
   "execution_count": 139,
   "metadata": {},
   "outputs": [
    {
     "data": {
      "text/plain": [
       "(212, 6)"
      ]
     },
     "execution_count": 139,
     "metadata": {},
     "output_type": "execute_result"
    }
   ],
   "source": [
    "x1_train.shape"
   ]
  },
  {
   "cell_type": "code",
   "execution_count": 140,
   "metadata": {},
   "outputs": [
    {
     "data": {
      "text/plain": [
       "(91, 6)"
      ]
     },
     "execution_count": 140,
     "metadata": {},
     "output_type": "execute_result"
    }
   ],
   "source": [
    "x1_test.shape"
   ]
  },
  {
   "cell_type": "code",
   "execution_count": 141,
   "metadata": {},
   "outputs": [
    {
     "data": {
      "text/html": [
       "<div>\n",
       "<style scoped>\n",
       "    .dataframe tbody tr th:only-of-type {\n",
       "        vertical-align: middle;\n",
       "    }\n",
       "\n",
       "    .dataframe tbody tr th {\n",
       "        vertical-align: top;\n",
       "    }\n",
       "\n",
       "    .dataframe thead th {\n",
       "        text-align: right;\n",
       "    }\n",
       "</style>\n",
       "<table border=\"1\" class=\"dataframe\">\n",
       "  <thead>\n",
       "    <tr style=\"text-align: right;\">\n",
       "      <th>col_0</th>\n",
       "      <th>0</th>\n",
       "      <th>1</th>\n",
       "    </tr>\n",
       "    <tr>\n",
       "      <th>AHD</th>\n",
       "      <th></th>\n",
       "      <th></th>\n",
       "    </tr>\n",
       "  </thead>\n",
       "  <tbody>\n",
       "    <tr>\n",
       "      <th>0</th>\n",
       "      <td>101</td>\n",
       "      <td>14</td>\n",
       "    </tr>\n",
       "    <tr>\n",
       "      <th>1</th>\n",
       "      <td>20</td>\n",
       "      <td>77</td>\n",
       "    </tr>\n",
       "  </tbody>\n",
       "</table>\n",
       "</div>"
      ],
      "text/plain": [
       "col_0    0   1\n",
       "AHD           \n",
       "0      101  14\n",
       "1       20  77"
      ]
     },
     "execution_count": 141,
     "metadata": {},
     "output_type": "execute_result"
    }
   ],
   "source": [
    "\n",
    "# Logistic Regression Model\n",
    "lr1 = LogisticRegression()\n",
    "lr1.fit(x1_train,y1_train)# fitting data into the model\n",
    "pred_train1 = lr1.predict(x1_train)# Predicting with X_train\n",
    "a_train1= pd.crosstab(y1_train,pred_train1)# Confusion matrix between Y train and Y predicted\n",
    "a_train1"
   ]
  },
  {
   "cell_type": "code",
   "execution_count": 142,
   "metadata": {},
   "outputs": [
    {
     "data": {
      "text/html": [
       "<div>\n",
       "<style scoped>\n",
       "    .dataframe tbody tr th:only-of-type {\n",
       "        vertical-align: middle;\n",
       "    }\n",
       "\n",
       "    .dataframe tbody tr th {\n",
       "        vertical-align: top;\n",
       "    }\n",
       "\n",
       "    .dataframe thead th {\n",
       "        text-align: right;\n",
       "    }\n",
       "</style>\n",
       "<table border=\"1\" class=\"dataframe\">\n",
       "  <thead>\n",
       "    <tr style=\"text-align: right;\">\n",
       "      <th>col_0</th>\n",
       "      <th>0</th>\n",
       "      <th>1</th>\n",
       "    </tr>\n",
       "    <tr>\n",
       "      <th>AHD</th>\n",
       "      <th></th>\n",
       "      <th></th>\n",
       "    </tr>\n",
       "  </thead>\n",
       "  <tbody>\n",
       "    <tr>\n",
       "      <th>0</th>\n",
       "      <td>42</td>\n",
       "      <td>7</td>\n",
       "    </tr>\n",
       "    <tr>\n",
       "      <th>1</th>\n",
       "      <td>7</td>\n",
       "      <td>35</td>\n",
       "    </tr>\n",
       "  </tbody>\n",
       "</table>\n",
       "</div>"
      ],
      "text/plain": [
       "col_0   0   1\n",
       "AHD          \n",
       "0      42   7\n",
       "1       7  35"
      ]
     },
     "execution_count": 142,
     "metadata": {},
     "output_type": "execute_result"
    }
   ],
   "source": [
    "pred_test1= lr1.predict(x1_test)# Predicting with X_test\n",
    "a_test1 = pd.crosstab(y1_test,pred_test1)# Confusion matrix between Y test and Y predicted\n",
    "a_test1=pd.DataFrame(a_test1)\n",
    "a_test1\n"
   ]
  },
  {
   "cell_type": "code",
   "execution_count": 143,
   "metadata": {},
   "outputs": [
    {
     "name": "stdout",
     "output_type": "stream",
     "text": [
      " Accuracy :84.62\n",
      "\n",
      " Error :15.38\n",
      "\n",
      " Sensitivity :83.33\n",
      "\n",
      " Precision :83.33\n",
      "\n",
      " Specificity :85.71\n"
     ]
    }
   ],
   "source": [
    "TN = a_test1[0][0]\n",
    "FN = a_test1[0][1]\n",
    "FP = a_test1[1][0]\n",
    "TP = a_test1[1][1]\n",
    "Total = a_test1.sum().sum()\n",
    "acc_test = (TP + TN) / Total\n",
    "print(' Accuracy :%1.2f'%(acc_test*100))\n",
    "err_test = (FP + FN) / Total\n",
    "print('\\n Error :%1.2f'%(err_test*100))\n",
    "sens_test = (TP / (TP + FN))\n",
    "print('\\n Sensitivity :%1.2f'%(sens_test*100))\n",
    "precision_test = (TP) / (TP + FP)\n",
    "print('\\n Precision :%1.2f'%(precision_test*100))\n",
    "specificity_test = (TN) / (TN + FP)\n",
    "print('\\n Specificity :%1.2f'%(specificity_test*100))"
   ]
  },
  {
   "cell_type": "code",
   "execution_count": 144,
   "metadata": {},
   "outputs": [
    {
     "name": "stdout",
     "output_type": "stream",
     "text": [
      "Optimization terminated successfully.\n",
      "         Current function value: 0.380943\n",
      "         Iterations 7\n",
      "                           Logit Regression Results                           \n",
      "==============================================================================\n",
      "Dep. Variable:                    AHD   No. Observations:                  212\n",
      "Model:                          Logit   Df Residuals:                      205\n",
      "Method:                           MLE   Df Model:                            6\n",
      "Date:                Fri, 11 Jan 2019   Pseudo R-squ.:                  0.4475\n",
      "Time:                        19:05:51   Log-Likelihood:                -80.760\n",
      "converged:                       True   LL-Null:                       -146.18\n",
      "                                        LLR p-value:                 8.534e-26\n",
      "===================================================================================\n",
      "                      coef    std err          z      P>|z|      [0.025      0.975]\n",
      "-----------------------------------------------------------------------------------\n",
      "const               0.5907      1.510      0.391      0.696      -2.369       3.551\n",
      "Sex                 1.1983      0.464      2.581      0.010       0.288       2.108\n",
      "MaxHR              -0.0242      0.010     -2.508      0.012      -0.043      -0.005\n",
      "ExAng               1.4049      0.459      3.061      0.002       0.505       2.305\n",
      "Oldpeak             0.5486      0.197      2.789      0.005       0.163       0.934\n",
      "Ca                  1.0290      0.268      3.833      0.000       0.503       1.555\n",
      "Thal_reversable     1.2142      0.424      2.861      0.004       0.382       2.046\n",
      "===================================================================================\n"
     ]
    }
   ],
   "source": [
    "x2 = add_constant(x1_train)\n",
    "logit = sm.Logit(y1_train,x2)\n",
    "result = logit.fit()\n",
    "print(result.summary())"
   ]
  },
  {
   "cell_type": "code",
   "execution_count": 145,
   "metadata": {},
   "outputs": [],
   "source": [
    "#pred_1 = lr1.predict_proba(x1_test)\n",
    "#pred_2 = lr.predict_proba(x_train1"
   ]
  },
  {
   "cell_type": "code",
   "execution_count": 146,
   "metadata": {},
   "outputs": [
    {
     "name": "stdout",
     "output_type": "stream",
     "text": [
      "The AUC for LOR is :84.52\n"
     ]
    },
    {
     "name": "stderr",
     "output_type": "stream",
     "text": [
      "C:\\Users\\HII\\Anaconda3\\lib\\site-packages\\matplotlib\\cbook\\deprecation.py:107: MatplotlibDeprecationWarning: Adding an axes using the same arguments as a previous axes currently reuses the earlier instance.  In a future version, a new instance will always be created and returned.  Meanwhile, this warning can be suppressed, and the future behavior ensured, by passing a unique label to each axes instance.\n",
      "  warnings.warn(message, mplDeprecation, stacklevel=1)\n"
     ]
    },
    {
     "data": {
      "image/png": "[encoded data removed]",
      "text/plain": [
       "<Figure size 432x288 with 1 Axes>"
      ]
     },
     "metadata": {
      "needs_background": "light"
     },
     "output_type": "display_data"
    }
   ],
   "source": [
    "fpr,tpr,threshold = metrics.roc_curve(y1_test,pred_test1)\n",
    "plt.plot(fpr,tpr,label = 'Roc curve',color = 'b')\n",
    "plt.axes().set_aspect('equal')\n",
    "plt.xlim([-0.05,1.05])\n",
    "plt.ylim([-0.05,1.05])\n",
    "AUC = metrics.auc(fpr,tpr)\n",
    "print(\"The AUC for LOR is :%1.2f\"%(AUC*100))"
   ]
  },
  {
   "cell_type": "markdown",
   "metadata": {},
   "source": [
    "# All classification Model Comparisons"
   ]
  },
  {
   "cell_type": "code",
   "execution_count": 147,
   "metadata": {},
   "outputs": [
    {
     "data": {
      "text/html": [
       "<div>\n",
       "<style scoped>\n",
       "    .dataframe tbody tr th:only-of-type {\n",
       "        vertical-align: middle;\n",
       "    }\n",
       "\n",
       "    .dataframe tbody tr th {\n",
       "        vertical-align: top;\n",
       "    }\n",
       "\n",
       "    .dataframe thead th {\n",
       "        text-align: right;\n",
       "    }\n",
       "</style>\n",
       "<table border=\"1\" class=\"dataframe\">\n",
       "  <thead>\n",
       "    <tr style=\"text-align: right;\">\n",
       "      <th></th>\n",
       "      <th>count</th>\n",
       "      <th>mean</th>\n",
       "      <th>std</th>\n",
       "      <th>min</th>\n",
       "      <th>25%</th>\n",
       "      <th>50%</th>\n",
       "      <th>75%</th>\n",
       "      <th>max</th>\n",
       "    </tr>\n",
       "  </thead>\n",
       "  <tbody>\n",
       "    <tr>\n",
       "      <th>Sex</th>\n",
       "      <td>303.0</td>\n",
       "      <td>2.931282e-18</td>\n",
       "      <td>1.001654</td>\n",
       "      <td>-1.457296</td>\n",
       "      <td>-1.457296</td>\n",
       "      <td>0.686202</td>\n",
       "      <td>0.686202</td>\n",
       "      <td>0.686202</td>\n",
       "    </tr>\n",
       "    <tr>\n",
       "      <th>MaxHR</th>\n",
       "      <td>303.0</td>\n",
       "      <td>-1.179841e-16</td>\n",
       "      <td>1.001654</td>\n",
       "      <td>-3.442067</td>\n",
       "      <td>-0.705307</td>\n",
       "      <td>0.148562</td>\n",
       "      <td>0.717808</td>\n",
       "      <td>2.294182</td>\n",
       "    </tr>\n",
       "    <tr>\n",
       "      <th>ExAng</th>\n",
       "      <td>303.0</td>\n",
       "      <td>-4.470205e-17</td>\n",
       "      <td>1.001654</td>\n",
       "      <td>-0.696631</td>\n",
       "      <td>-0.696631</td>\n",
       "      <td>-0.696631</td>\n",
       "      <td>1.435481</td>\n",
       "      <td>1.435481</td>\n",
       "    </tr>\n",
       "    <tr>\n",
       "      <th>Oldpeak</th>\n",
       "      <td>303.0</td>\n",
       "      <td>-1.700144e-16</td>\n",
       "      <td>1.001654</td>\n",
       "      <td>-0.896862</td>\n",
       "      <td>-0.896862</td>\n",
       "      <td>-0.206705</td>\n",
       "      <td>0.483451</td>\n",
       "      <td>4.451851</td>\n",
       "    </tr>\n",
       "    <tr>\n",
       "      <th>Ca</th>\n",
       "      <td>303.0</td>\n",
       "      <td>-1.176177e-16</td>\n",
       "      <td>1.001654</td>\n",
       "      <td>-0.711131</td>\n",
       "      <td>-0.711131</td>\n",
       "      <td>-0.711131</td>\n",
       "      <td>0.360873</td>\n",
       "      <td>2.504881</td>\n",
       "    </tr>\n",
       "    <tr>\n",
       "      <th>Thal_reversable</th>\n",
       "      <td>303.0</td>\n",
       "      <td>6.961795e-17</td>\n",
       "      <td>1.001654</td>\n",
       "      <td>-0.793116</td>\n",
       "      <td>-0.793116</td>\n",
       "      <td>-0.793116</td>\n",
       "      <td>1.260850</td>\n",
       "      <td>1.260850</td>\n",
       "    </tr>\n",
       "  </tbody>\n",
       "</table>\n",
       "</div>"
      ],
      "text/plain": [
       "                 count          mean       std       min       25%       50%  \\\n",
       "Sex              303.0  2.931282e-18  1.001654 -1.457296 -1.457296  0.686202   \n",
       "MaxHR            303.0 -1.179841e-16  1.001654 -3.442067 -0.705307  0.148562   \n",
       "ExAng            303.0 -4.470205e-17  1.001654 -0.696631 -0.696631 -0.696631   \n",
       "Oldpeak          303.0 -1.700144e-16  1.001654 -0.896862 -0.896862 -0.206705   \n",
       "Ca               303.0 -1.176177e-16  1.001654 -0.711131 -0.711131 -0.711131   \n",
       "Thal_reversable  303.0  6.961795e-17  1.001654 -0.793116 -0.793116 -0.793116   \n",
       "\n",
       "                      75%       max  \n",
       "Sex              0.686202  0.686202  \n",
       "MaxHR            0.717808  2.294182  \n",
       "ExAng            1.435481  1.435481  \n",
       "Oldpeak          0.483451  4.451851  \n",
       "Ca               0.360873  2.504881  \n",
       "Thal_reversable  1.260850  1.260850  "
      ]
     },
     "execution_count": 147,
     "metadata": {},
     "output_type": "execute_result"
    }
   ],
   "source": [
    "x1=New.drop(['AHD','Fbs','Age','RestECG','Slope','Thal_normal','RestBP','Chol','ChestPain_typical','ChestPain_nontypical','ChestPain_nonanginal'],axis=1)\n",
    "y1=New.AHD\n",
    "x_std=StandardScaler().fit_transform(x1)\n",
    "x_std=pd.DataFrame(x_std,columns=x1.columns)\n",
    "pd.DataFrame(x_std).head()\n",
    "x_std.describe().transpose()"
   ]
  },
  {
   "cell_type": "markdown",
   "metadata": {},
   "source": [
    "# GridSearch for Best parameters for each Model"
   ]
  },
  {
   "cell_type": "code",
   "execution_count": 148,
   "metadata": {},
   "outputs": [],
   "source": [
    "\n",
    "\n",
    "parameter_rf= {'n_estimators':np.arange(1,100),'max_depth':np.arange(1,10)} \n",
    "# we are restricting the depth to 10 layers\n",
    "model=RandomForestClassifier(criterion='entropy',random_state=0)\n",
    "parameter_dt = {'max_depth':np.arange(1,10)} \n",
    "# we are restricting the depth to 10 layers\n",
    "model1=DecisionTreeClassifier(criterion='entropy',random_state=0)\n",
    "parameter_kn = {'n_neighbors':np.arange(1,15)} \n",
    "# we are restricting the depth to 10 layers\n",
    "model2=KNeighborsClassifier(weights='uniform',metric='euclidean')\n"
   ]
  },
  {
   "cell_type": "code",
   "execution_count": 149,
   "metadata": {},
   "outputs": [
    {
     "name": "stdout",
     "output_type": "stream",
     "text": [
      "{'max_depth': 4}\n"
     ]
    }
   ],
   "source": [
    "GS_dt= GridSearchCV(model1,parameter_dt,cv=5) # we give the model created  above inside the GridSearch to give best number of Parameters\n",
    "GS_dt.fit(x_std,y)\n",
    "print(GS_dt.best_params_)"
   ]
  },
  {
   "cell_type": "code",
   "execution_count": 150,
   "metadata": {},
   "outputs": [
    {
     "name": "stdout",
     "output_type": "stream",
     "text": [
      "{'max_depth': 3, 'n_estimators': 50}\n"
     ]
    }
   ],
   "source": [
    "GS_rf= GridSearchCV(model,parameter_rf,cv=5) # we give the model created  above inside the GridSearch to give best number of Parameters\n",
    "GS_rf.fit(x_std,y)\n",
    "print(GS_rf.best_params_)"
   ]
  },
  {
   "cell_type": "code",
   "execution_count": 151,
   "metadata": {},
   "outputs": [
    {
     "name": "stdout",
     "output_type": "stream",
     "text": [
      "{'n_neighbors': 13}\n"
     ]
    }
   ],
   "source": [
    "GS_kn= GridSearchCV(model2,parameter_kn,cv=5) # we give the model created  above inside the GridSearch to give best number of Parameters\n",
    "GS_kn.fit(x_std,y)\n",
    "print(GS_kn.best_params_)"
   ]
  },
  {
   "cell_type": "code",
   "execution_count": 152,
   "metadata": {},
   "outputs": [],
   "source": [
    "# Decision Tree\n",
    "DT_model=DecisionTreeClassifier(max_depth=4,criterion='entropy',random_state=0)\n",
    "DT_model.fit(x1_train,y1_train)\n",
    "pred1=DT_model.predict(x1_test)\n",
    "\n",
    "#Random Forest \n",
    "Rf_model=RandomForestClassifier(n_estimators=50,max_depth=3,criterion='entropy',random_state=0)\n",
    "Rf_model.fit(x1_train,y1_train)\n",
    "pred2=Rf_model.predict(x1_test)\n",
    "\n",
    "#Navive Baye's \n",
    "Nb_model=GaussianNB()\n",
    "Nb_model.fit(x1_train,y1_train)\n",
    "pred3=Nb_model.predict(x1_test)\n",
    "\n",
    "#Logistic Regression \n",
    "LOr_model=LogisticRegression()\n",
    "LOr_model.fit(x1_train,y1_train)\n",
    "pred4=LOr_model.predict(x1_test)\n",
    "\n",
    "# KNN\n",
    "Kn_model=KNeighborsClassifier(n_neighbors=13,weights='uniform',metric='euclidean')\n",
    "Kn_model.fit(x1_train,y1_train)\n",
    "pred5=Kn_model.predict(x1_test)"
   ]
  },
  {
   "cell_type": "code",
   "execution_count": null,
   "metadata": {},
   "outputs": [],
   "source": []
  },
  {
   "cell_type": "code",
   "execution_count": null,
   "metadata": {},
   "outputs": [],
   "source": []
  },
  {
   "cell_type": "code",
   "execution_count": 171,
   "metadata": {},
   "outputs": [
    {
     "name": "stdout",
     "output_type": "stream",
     "text": [
      "Decision Tree:  Performance Range is  (65.12 - 90.70) with a Varience error of (0.071085) and mean of 76.90\n",
      "Random Forest:  Performance Range is  (69.77 - 90.70) with a Varience error of (0.063653) and mean of 81.85\n",
      "Naive Bayes:  Performance Range is  (72.09 - 93.02) with a Varience error of (0.057230) and mean of 81.86\n",
      "Logistic Regression:  Performance Range is  (72.09 - 95.35) with a Varience error of (0.064173) and mean of 83.17\n",
      "KNN:  Performance Range is  (74.42 - 88.37) with a Varience error of (0.046370) and mean of 82.17\n"
     ]
    },
    {
     "data": {
      "image/png": "[encoded data removed]",
      "text/plain": [
       "<Figure size 720x576 with 1 Axes>"
      ]
     },
     "metadata": {
      "needs_background": "light"
     },
     "output_type": "display_data"
    }
   ],
   "source": [
    "# kfold cross validation and Model comparison's\n",
    "mod=[]\n",
    "mod.append(('Decision Tree',DT_model))\n",
    "mod.append(('Random Forest',Rf_model))\n",
    "mod.append(('Naive Bayes',Nb_model))\n",
    "mod.append(('Logistic Regression',LOr_model))\n",
    "mod.append(('KNN',Kn_model))\n",
    "result=[]\n",
    "names=[]\n",
    "scoring='accuracy'\n",
    "for name,model in mod:\n",
    "    kfold=model_selection.KFold(n_splits=7,random_state=2)# 5 fold cross validation function\n",
    "    cv_results=model_selection.cross_val_score(model,x_std,y,cv=kfold,scoring='accuracy')\n",
    "    result.append(cv_results)\n",
    "    names.append(name)\n",
    "    msg=\"%s:  Performance Range is  (%1.2f %s %1.2f) with a Varience error of (%f) and mean of %1.2f\"%(name,cv_results.min()*100,'-',cv_results.max()*100,cv_results.std(),cv_results.mean()*100)\n",
    "    print(msg)\n",
    "# boxplot for the models\n",
    "\n",
    "fig=plt.figure(figsize=[10,8])\n",
    "fig.suptitle(\"Algorithm Comparison\")\n",
    "ax=fig.add_subplot(111)\n",
    "plt.boxplot(result)\n",
    "ax.set_xticklabels(names)\n",
    "plt.show()\n"
   ]
  },
  {
   "cell_type": "code",
   "execution_count": null,
   "metadata": {},
   "outputs": [],
   "source": []
  },
  {
   "cell_type": "markdown",
   "metadata": {},
   "source": [
    "# Another Combination"
   ]
  },
  {
   "cell_type": "code",
   "execution_count": 154,
   "metadata": {},
   "outputs": [
    {
     "data": {
      "text/plain": [
       "Index(['Age', 'Sex', 'RestBP', 'Chol', 'Fbs', 'RestECG', 'MaxHR', 'Oldpeak',\n",
       "       'Ca', 'AHD', 'ChestPain_nonanginal', 'ChestPain_nontypical',\n",
       "       'ChestPain_typical', 'Thal_normal', 'Thal_reversable', 'ExAng_1',\n",
       "       'Slope_2', 'Slope_3'],\n",
       "      dtype='object')"
      ]
     },
     "execution_count": 154,
     "metadata": {},
     "output_type": "execute_result"
    }
   ],
   "source": [
    "New1=pd.get_dummies(New,columns=['ExAng','Slope'],drop_first=True)\n",
    "New1.columns"
   ]
  },
  {
   "cell_type": "code",
   "execution_count": 155,
   "metadata": {
    "scrolled": true
   },
   "outputs": [
    {
     "data": {
      "text/html": [
       "<div>\n",
       "<style scoped>\n",
       "    .dataframe tbody tr th:only-of-type {\n",
       "        vertical-align: middle;\n",
       "    }\n",
       "\n",
       "    .dataframe tbody tr th {\n",
       "        vertical-align: top;\n",
       "    }\n",
       "\n",
       "    .dataframe thead th {\n",
       "        text-align: right;\n",
       "    }\n",
       "</style>\n",
       "<table border=\"1\" class=\"dataframe\">\n",
       "  <thead>\n",
       "    <tr style=\"text-align: right;\">\n",
       "      <th></th>\n",
       "      <th>Sex</th>\n",
       "      <th>Oldpeak</th>\n",
       "      <th>Ca</th>\n",
       "      <th>ChestPain_nonanginal</th>\n",
       "      <th>ChestPain_nontypical</th>\n",
       "      <th>ChestPain_typical</th>\n",
       "      <th>Thal_reversable</th>\n",
       "      <th>Slope_2</th>\n",
       "    </tr>\n",
       "  </thead>\n",
       "  <tbody>\n",
       "    <tr>\n",
       "      <th>0</th>\n",
       "      <td>1</td>\n",
       "      <td>2.3</td>\n",
       "      <td>0.0</td>\n",
       "      <td>0</td>\n",
       "      <td>0</td>\n",
       "      <td>1</td>\n",
       "      <td>0</td>\n",
       "      <td>0</td>\n",
       "    </tr>\n",
       "    <tr>\n",
       "      <th>1</th>\n",
       "      <td>1</td>\n",
       "      <td>1.5</td>\n",
       "      <td>3.0</td>\n",
       "      <td>0</td>\n",
       "      <td>0</td>\n",
       "      <td>0</td>\n",
       "      <td>0</td>\n",
       "      <td>1</td>\n",
       "    </tr>\n",
       "    <tr>\n",
       "      <th>2</th>\n",
       "      <td>1</td>\n",
       "      <td>2.6</td>\n",
       "      <td>2.0</td>\n",
       "      <td>0</td>\n",
       "      <td>0</td>\n",
       "      <td>0</td>\n",
       "      <td>1</td>\n",
       "      <td>1</td>\n",
       "    </tr>\n",
       "    <tr>\n",
       "      <th>3</th>\n",
       "      <td>1</td>\n",
       "      <td>3.5</td>\n",
       "      <td>0.0</td>\n",
       "      <td>1</td>\n",
       "      <td>0</td>\n",
       "      <td>0</td>\n",
       "      <td>0</td>\n",
       "      <td>0</td>\n",
       "    </tr>\n",
       "    <tr>\n",
       "      <th>4</th>\n",
       "      <td>0</td>\n",
       "      <td>1.4</td>\n",
       "      <td>0.0</td>\n",
       "      <td>0</td>\n",
       "      <td>1</td>\n",
       "      <td>0</td>\n",
       "      <td>0</td>\n",
       "      <td>0</td>\n",
       "    </tr>\n",
       "  </tbody>\n",
       "</table>\n",
       "</div>"
      ],
      "text/plain": [
       "   Sex  Oldpeak   Ca  ChestPain_nonanginal  ChestPain_nontypical  \\\n",
       "0    1      2.3  0.0                     0                     0   \n",
       "1    1      1.5  3.0                     0                     0   \n",
       "2    1      2.6  2.0                     0                     0   \n",
       "3    1      3.5  0.0                     1                     0   \n",
       "4    0      1.4  0.0                     0                     1   \n",
       "\n",
       "   ChestPain_typical  Thal_reversable  Slope_2  \n",
       "0                  1                0        0  \n",
       "1                  0                0        1  \n",
       "2                  0                1        1  \n",
       "3                  0                0        0  \n",
       "4                  0                0        0  "
      ]
     },
     "execution_count": 155,
     "metadata": {},
     "output_type": "execute_result"
    }
   ],
   "source": [
    "# IDV's and DV 2\n",
    "x2=New1.drop(['AHD','Fbs','Slope_3','Age','RestECG','Thal_normal','RestBP','Chol','MaxHR','ExAng_1'],axis=1)\n",
    "y2=New1.AHD\n",
    "x2.head()"
   ]
  },
  {
   "cell_type": "code",
   "execution_count": null,
   "metadata": {},
   "outputs": [],
   "source": []
  },
  {
   "cell_type": "code",
   "execution_count": 156,
   "metadata": {},
   "outputs": [],
   "source": [
    "x2_train,x2_test,y2_train,y2_test = train_test_split(x2,y2,test_size = 0.3,random_state = 1)"
   ]
  },
  {
   "cell_type": "code",
   "execution_count": 157,
   "metadata": {},
   "outputs": [
    {
     "data": {
      "text/plain": [
       "(212, 8)"
      ]
     },
     "execution_count": 157,
     "metadata": {},
     "output_type": "execute_result"
    }
   ],
   "source": [
    "x2_train.shape"
   ]
  },
  {
   "cell_type": "code",
   "execution_count": 158,
   "metadata": {},
   "outputs": [
    {
     "data": {
      "text/plain": [
       "(91, 8)"
      ]
     },
     "execution_count": 158,
     "metadata": {},
     "output_type": "execute_result"
    }
   ],
   "source": [
    "x2_test.shape"
   ]
  },
  {
   "cell_type": "code",
   "execution_count": 159,
   "metadata": {},
   "outputs": [
    {
     "data": {
      "text/html": [
       "<div>\n",
       "<style scoped>\n",
       "    .dataframe tbody tr th:only-of-type {\n",
       "        vertical-align: middle;\n",
       "    }\n",
       "\n",
       "    .dataframe tbody tr th {\n",
       "        vertical-align: top;\n",
       "    }\n",
       "\n",
       "    .dataframe thead th {\n",
       "        text-align: right;\n",
       "    }\n",
       "</style>\n",
       "<table border=\"1\" class=\"dataframe\">\n",
       "  <thead>\n",
       "    <tr style=\"text-align: right;\">\n",
       "      <th>col_0</th>\n",
       "      <th>0</th>\n",
       "      <th>1</th>\n",
       "    </tr>\n",
       "    <tr>\n",
       "      <th>AHD</th>\n",
       "      <th></th>\n",
       "      <th></th>\n",
       "    </tr>\n",
       "  </thead>\n",
       "  <tbody>\n",
       "    <tr>\n",
       "      <th>0</th>\n",
       "      <td>101</td>\n",
       "      <td>14</td>\n",
       "    </tr>\n",
       "    <tr>\n",
       "      <th>1</th>\n",
       "      <td>15</td>\n",
       "      <td>82</td>\n",
       "    </tr>\n",
       "  </tbody>\n",
       "</table>\n",
       "</div>"
      ],
      "text/plain": [
       "col_0    0   1\n",
       "AHD           \n",
       "0      101  14\n",
       "1       15  82"
      ]
     },
     "execution_count": 159,
     "metadata": {},
     "output_type": "execute_result"
    }
   ],
   "source": [
    "lr3 = LogisticRegression()\n",
    "lr3.fit(x2_train,y2_train)\n",
    "pred_train2 = lr3.predict(x2_train)\n",
    "a_train2= pd.crosstab(y2_train,pred_train2)\n",
    "a_train2"
   ]
  },
  {
   "cell_type": "code",
   "execution_count": 160,
   "metadata": {},
   "outputs": [
    {
     "data": {
      "text/html": [
       "<div>\n",
       "<style scoped>\n",
       "    .dataframe tbody tr th:only-of-type {\n",
       "        vertical-align: middle;\n",
       "    }\n",
       "\n",
       "    .dataframe tbody tr th {\n",
       "        vertical-align: top;\n",
       "    }\n",
       "\n",
       "    .dataframe thead th {\n",
       "        text-align: right;\n",
       "    }\n",
       "</style>\n",
       "<table border=\"1\" class=\"dataframe\">\n",
       "  <thead>\n",
       "    <tr style=\"text-align: right;\">\n",
       "      <th>col_0</th>\n",
       "      <th>0</th>\n",
       "      <th>1</th>\n",
       "    </tr>\n",
       "    <tr>\n",
       "      <th>AHD</th>\n",
       "      <th></th>\n",
       "      <th></th>\n",
       "    </tr>\n",
       "  </thead>\n",
       "  <tbody>\n",
       "    <tr>\n",
       "      <th>0</th>\n",
       "      <td>43</td>\n",
       "      <td>6</td>\n",
       "    </tr>\n",
       "    <tr>\n",
       "      <th>1</th>\n",
       "      <td>8</td>\n",
       "      <td>34</td>\n",
       "    </tr>\n",
       "  </tbody>\n",
       "</table>\n",
       "</div>"
      ],
      "text/plain": [
       "col_0   0   1\n",
       "AHD          \n",
       "0      43   6\n",
       "1       8  34"
      ]
     },
     "execution_count": 160,
     "metadata": {},
     "output_type": "execute_result"
    }
   ],
   "source": [
    "pred_test2= lr2.predict(x2_test)\n",
    "a_test2 = pd.crosstab(y2_test,pred_test2)\n",
    "a_test2=pd.DataFrame(a_test2)\n",
    "a_test2\n"
   ]
  },
  {
   "cell_type": "code",
   "execution_count": 161,
   "metadata": {},
   "outputs": [
    {
     "name": "stdout",
     "output_type": "stream",
     "text": [
      " Accuracy :84.62\n",
      "\n",
      " Error :15.38\n",
      "\n",
      " Sensitivity :80.95\n",
      "\n",
      " Precision :85.00\n",
      "\n",
      " Specificity :87.76\n"
     ]
    }
   ],
   "source": [
    "TN = a_test2[0][0]\n",
    "FN = a_test2[0][1]\n",
    "FP = a_test2[1][0]\n",
    "TP = a_test2[1][1]\n",
    "Total = a_test2.sum().sum()\n",
    "acc_test = (TP + TN) / Total\n",
    "print(' Accuracy :%1.2f'%(acc_test*100))\n",
    "err_test = (FP + FN) / Total\n",
    "print('\\n Error :%1.2f'%(err_test*100))\n",
    "sens_test = (TP / (TP + FN))\n",
    "print('\\n Sensitivity :%1.2f'%(sens_test*100))\n",
    "precision_test = (TP) / (TP + FP)\n",
    "print('\\n Precision :%1.2f'%(precision_test*100))\n",
    "specificity_test = (TN) / (TN + FP)\n",
    "print('\\n Specificity :%1.2f'%(specificity_test*100))"
   ]
  },
  {
   "cell_type": "code",
   "execution_count": 162,
   "metadata": {},
   "outputs": [
    {
     "name": "stdout",
     "output_type": "stream",
     "text": [
      "Optimization terminated successfully.\n",
      "         Current function value: 0.361097\n",
      "         Iterations 7\n",
      "                           Logit Regression Results                           \n",
      "==============================================================================\n",
      "Dep. Variable:                    AHD   No. Observations:                  212\n",
      "Model:                          Logit   Df Residuals:                      203\n",
      "Method:                           MLE   Df Model:                            8\n",
      "Date:                Fri, 11 Jan 2019   Pseudo R-squ.:                  0.4763\n",
      "Time:                        19:10:23   Log-Likelihood:                -76.553\n",
      "converged:                       True   LL-Null:                       -146.18\n",
      "                                        LLR p-value:                 3.383e-26\n",
      "========================================================================================\n",
      "                           coef    std err          z      P>|z|      [0.025      0.975]\n",
      "----------------------------------------------------------------------------------------\n",
      "const                   -2.3660      0.547     -4.327      0.000      -3.438      -1.294\n",
      "Sex                      1.3326      0.492      2.709      0.007       0.368       2.297\n",
      "Oldpeak                  0.5810      0.207      2.811      0.005       0.176       0.986\n",
      "Ca                       1.0359      0.277      3.745      0.000       0.494       1.578\n",
      "ChestPain_nonanginal    -1.9424      0.496     -3.915      0.000      -2.915      -0.970\n",
      "ChestPain_nontypical    -1.7378      0.729     -2.385      0.017      -3.166      -0.310\n",
      "ChestPain_typical       -1.8029      0.685     -2.632      0.008      -3.145      -0.460\n",
      "Thal_reversable          1.2277      0.438      2.803      0.005       0.369       2.086\n",
      "Slope_2                  1.1207      0.438      2.559      0.010       0.262       1.979\n",
      "========================================================================================\n"
     ]
    }
   ],
   "source": [
    "x2 = add_constant(x2_train)\n",
    "logit = sm.Logit(y2_train,x2)\n",
    "result = logit.fit()\n",
    "print(result.summary())"
   ]
  },
  {
   "cell_type": "code",
   "execution_count": null,
   "metadata": {},
   "outputs": [],
   "source": []
  },
  {
   "cell_type": "code",
   "execution_count": 163,
   "metadata": {},
   "outputs": [
    {
     "name": "stdout",
     "output_type": "stream",
     "text": [
      "The AUC for LOR is :84.35\n"
     ]
    },
    {
     "name": "stderr",
     "output_type": "stream",
     "text": [
      "C:\\Users\\HII\\Anaconda3\\lib\\site-packages\\matplotlib\\cbook\\deprecation.py:107: MatplotlibDeprecationWarning: Adding an axes using the same arguments as a previous axes currently reuses the earlier instance.  In a future version, a new instance will always be created and returned.  Meanwhile, this warning can be suppressed, and the future behavior ensured, by passing a unique label to each axes instance.\n",
      "  warnings.warn(message, mplDeprecation, stacklevel=1)\n"
     ]
    },
    {
     "data": {
      "image/png": "[encoded data removed]",
      "text/plain": [
       "<Figure size 432x288 with 1 Axes>"
      ]
     },
     "metadata": {
      "needs_background": "light"
     },
     "output_type": "display_data"
    }
   ],
   "source": [
    "fpr,tpr,threshold = metrics.roc_curve(y2_test,pred_test2)\n",
    "plt.plot(fpr,tpr,label = 'Roc curve',color = 'b')\n",
    "plt.axes().set_aspect('equal')\n",
    "plt.xlim([-0.05,1.05])\n",
    "plt.ylim([-0.05,1.05])\n",
    "AUC = metrics.auc(fpr,tpr)\n",
    "print(\"The AUC for LOR is :%1.2f\"%(AUC*100))"
   ]
  },
  {
   "cell_type": "code",
   "execution_count": null,
   "metadata": {},
   "outputs": [],
   "source": []
  },
  {
   "cell_type": "code",
   "execution_count": null,
   "metadata": {},
   "outputs": [],
   "source": []
  }
 ],
 "metadata": {
  "kernelspec": {
   "display_name": "Python 3",
   "language": "python",
   "name": "python3"
  },
  "language_info": {
   "codemirror_mode": {
    "name": "ipython",
    "version": 3
   },
   "file_extension": ".py",
   "mimetype": "text/x-python",
   "name": "python",
   "nbconvert_exporter": "python",
   "pygments_lexer": "ipython3",
   "version": "3.7.0"
  }
 },
 "nbformat": 4,
 "nbformat_minor": 2
}

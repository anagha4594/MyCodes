{
 "cells": [
  {
   "cell_type": "code",
   "execution_count": 110,
   "metadata": {},
   "outputs": [],
   "source": [
    "import numpy as np\n",
    "import pandas as pd\n",
    "import matplotlib.pyplot as plt\n",
    "import seaborn as sns\n",
    "%matplotlib inline\n",
    "import scipy.stats as stats\n",
    "import statsmodels.formula.api as sm\n",
    "from statsmodels.api import add_constant\n",
    "from sklearn.linear_model import LinearRegression\n",
    "from sklearn.model_selection import train_test_split\n",
    "from statsmodels.stats.outliers_influence import variance_inflation_factor\n",
    "from sklearn.linear_model import LogisticRegression\n",
    "import statsmodels.discrete.discrete_model as sm\n",
    "from sklearn import metrics"
   ]
  },
  {
   "cell_type": "code",
   "execution_count": 111,
   "metadata": {},
   "outputs": [
    {
     "data": {
      "text/html": [
       "<div>\n",
       "<style scoped>\n",
       "    .dataframe tbody tr th:only-of-type {\n",
       "        vertical-align: middle;\n",
       "    }\n",
       "\n",
       "    .dataframe tbody tr th {\n",
       "        vertical-align: top;\n",
       "    }\n",
       "\n",
       "    .dataframe thead th {\n",
       "        text-align: right;\n",
       "    }\n",
       "</style>\n",
       "<table border=\"1\" class=\"dataframe\">\n",
       "  <thead>\n",
       "    <tr style=\"text-align: right;\">\n",
       "      <th></th>\n",
       "      <th>male</th>\n",
       "      <th>race</th>\n",
       "      <th>age</th>\n",
       "      <th>state</th>\n",
       "      <th>time.served</th>\n",
       "      <th>max.sentence</th>\n",
       "      <th>multiple.offenses</th>\n",
       "      <th>crime</th>\n",
       "      <th>violator</th>\n",
       "    </tr>\n",
       "  </thead>\n",
       "  <tbody>\n",
       "    <tr>\n",
       "      <th>733</th>\n",
       "      <td>1</td>\n",
       "      <td>2</td>\n",
       "      <td>33.4</td>\n",
       "      <td>3</td>\n",
       "      <td>11.2</td>\n",
       "      <td>12</td>\n",
       "      <td>1</td>\n",
       "      <td>1</td>\n",
       "      <td>1</td>\n",
       "    </tr>\n",
       "    <tr>\n",
       "      <th>734</th>\n",
       "      <td>1</td>\n",
       "      <td>2</td>\n",
       "      <td>29.3</td>\n",
       "      <td>3</td>\n",
       "      <td>1.4</td>\n",
       "      <td>12</td>\n",
       "      <td>1</td>\n",
       "      <td>1</td>\n",
       "      <td>1</td>\n",
       "    </tr>\n",
       "    <tr>\n",
       "      <th>735</th>\n",
       "      <td>1</td>\n",
       "      <td>1</td>\n",
       "      <td>31.4</td>\n",
       "      <td>3</td>\n",
       "      <td>2.9</td>\n",
       "      <td>12</td>\n",
       "      <td>1</td>\n",
       "      <td>1</td>\n",
       "      <td>1</td>\n",
       "    </tr>\n",
       "    <tr>\n",
       "      <th>736</th>\n",
       "      <td>1</td>\n",
       "      <td>2</td>\n",
       "      <td>20.6</td>\n",
       "      <td>3</td>\n",
       "      <td>12.0</td>\n",
       "      <td>8</td>\n",
       "      <td>1</td>\n",
       "      <td>3</td>\n",
       "      <td>1</td>\n",
       "    </tr>\n",
       "    <tr>\n",
       "      <th>737</th>\n",
       "      <td>0</td>\n",
       "      <td>2</td>\n",
       "      <td>28.8</td>\n",
       "      <td>3</td>\n",
       "      <td>14.9</td>\n",
       "      <td>12</td>\n",
       "      <td>0</td>\n",
       "      <td>1</td>\n",
       "      <td>1</td>\n",
       "    </tr>\n",
       "  </tbody>\n",
       "</table>\n",
       "</div>"
      ],
      "text/plain": [
       "     male  race   age  state  time.served  max.sentence  multiple.offenses  \\\n",
       "733     1     2  33.4      3         11.2            12                  1   \n",
       "734     1     2  29.3      3          1.4            12                  1   \n",
       "735     1     1  31.4      3          2.9            12                  1   \n",
       "736     1     2  20.6      3         12.0             8                  1   \n",
       "737     0     2  28.8      3         14.9            12                  0   \n",
       "\n",
       "     crime  violator  \n",
       "733      1         1  \n",
       "734      1         1  \n",
       "735      1         1  \n",
       "736      3         1  \n",
       "737      1         1  "
      ]
     },
     "execution_count": 111,
     "metadata": {},
     "output_type": "execute_result"
    }
   ],
   "source": [
    "df = pd.read_csv('D:\\\\Supervised Learning Regression\\\\parole1.1.csv')\n",
    "df.tail()"
   ]
  },
  {
   "cell_type": "code",
   "execution_count": 112,
   "metadata": {},
   "outputs": [
    {
     "data": {
      "text/plain": [
       "Series([], dtype: float64)"
      ]
     },
     "execution_count": 112,
     "metadata": {},
     "output_type": "execute_result"
    }
   ],
   "source": [
    "null_columns = df.columns[df.isnull().any()]\n",
    "df[null_columns].isnull().sum()"
   ]
  },
  {
   "cell_type": "code",
   "execution_count": 113,
   "metadata": {},
   "outputs": [
    {
     "data": {
      "image/png": "[encoded data removed]",
      "text/plain": [
       "<Figure size 432x288 with 2 Axes>"
      ]
     },
     "metadata": {
      "needs_background": "light"
     },
     "output_type": "display_data"
    }
   ],
   "source": [
    "sns.heatmap(df.corr(),annot = True)\n",
    "plt.show()"
   ]
  },
  {
   "cell_type": "code",
   "execution_count": 114,
   "metadata": {},
   "outputs": [
    {
     "name": "stdout",
     "output_type": "stream",
     "text": [
      "   male  race   age  state  time.served  max.sentence  multiple.offenses  \\\n",
      "0     1     1  33.2      1          5.5            18                  0   \n",
      "1     0     1  39.7      1          5.4            12                  0   \n",
      "2     1     2  29.5      1          5.6            12                  0   \n",
      "3     1     1  22.4      1          5.7            18                  0   \n",
      "4     1     2  21.6      1          5.4            12                  0   \n",
      "\n",
      "   crime  \n",
      "0      4  \n",
      "1      3  \n",
      "2      3  \n",
      "3      1  \n",
      "4      1  \n"
     ]
    }
   ],
   "source": [
    "x = df.drop('violator',axis = 1)\n",
    "y = df['violator']\n",
    "print(x.head())"
   ]
  },
  {
   "cell_type": "code",
   "execution_count": 115,
   "metadata": {},
   "outputs": [],
   "source": [
    "x_train,x_test,y_train,y_test = train_test_split(x,y,test_size = 0.3,random_state = 1)"
   ]
  },
  {
   "cell_type": "code",
   "execution_count": 116,
   "metadata": {},
   "outputs": [],
   "source": [
    "lr = LogisticRegression()"
   ]
  },
  {
   "cell_type": "code",
   "execution_count": 117,
   "metadata": {},
   "outputs": [
    {
     "name": "stderr",
     "output_type": "stream",
     "text": [
      "c:\\users\\dell\\appdata\\local\\programs\\python\\python37\\lib\\site-packages\\sklearn\\linear_model\\logistic.py:433: FutureWarning: Default solver will be changed to 'lbfgs' in 0.22. Specify a solver to silence this warning.\n",
      "  FutureWarning)\n"
     ]
    },
    {
     "data": {
      "text/html": [
       "<div>\n",
       "<style scoped>\n",
       "    .dataframe tbody tr th:only-of-type {\n",
       "        vertical-align: middle;\n",
       "    }\n",
       "\n",
       "    .dataframe tbody tr th {\n",
       "        vertical-align: top;\n",
       "    }\n",
       "\n",
       "    .dataframe thead th {\n",
       "        text-align: right;\n",
       "    }\n",
       "</style>\n",
       "<table border=\"1\" class=\"dataframe\">\n",
       "  <thead>\n",
       "    <tr style=\"text-align: right;\">\n",
       "      <th>col_0</th>\n",
       "      <th>0</th>\n",
       "      <th>1</th>\n",
       "    </tr>\n",
       "    <tr>\n",
       "      <th>violator</th>\n",
       "      <th></th>\n",
       "      <th></th>\n",
       "    </tr>\n",
       "  </thead>\n",
       "  <tbody>\n",
       "    <tr>\n",
       "      <th>0</th>\n",
       "      <td>409</td>\n",
       "      <td>16</td>\n",
       "    </tr>\n",
       "    <tr>\n",
       "      <th>1</th>\n",
       "      <td>70</td>\n",
       "      <td>21</td>\n",
       "    </tr>\n",
       "  </tbody>\n",
       "</table>\n",
       "</div>"
      ],
      "text/plain": [
       "col_0       0   1\n",
       "violator         \n",
       "0         409  16\n",
       "1          70  21"
      ]
     },
     "execution_count": 117,
     "metadata": {},
     "output_type": "execute_result"
    }
   ],
   "source": [
    "lr.fit(x_train,y_train)\n",
    "pred_train = lr.predict(x_train)\n",
    "a_train = pd.crosstab(y_train,pred_train)\n",
    "a_train"
   ]
  },
  {
   "cell_type": "code",
   "execution_count": 118,
   "metadata": {},
   "outputs": [
    {
     "data": {
      "text/html": [
       "<div>\n",
       "<style scoped>\n",
       "    .dataframe tbody tr th:only-of-type {\n",
       "        vertical-align: middle;\n",
       "    }\n",
       "\n",
       "    .dataframe tbody tr th {\n",
       "        vertical-align: top;\n",
       "    }\n",
       "\n",
       "    .dataframe thead th {\n",
       "        text-align: right;\n",
       "    }\n",
       "</style>\n",
       "<table border=\"1\" class=\"dataframe\">\n",
       "  <thead>\n",
       "    <tr style=\"text-align: right;\">\n",
       "      <th>col_0</th>\n",
       "      <th>0</th>\n",
       "      <th>1</th>\n",
       "    </tr>\n",
       "    <tr>\n",
       "      <th>violator</th>\n",
       "      <th></th>\n",
       "      <th></th>\n",
       "    </tr>\n",
       "  </thead>\n",
       "  <tbody>\n",
       "    <tr>\n",
       "      <th>0</th>\n",
       "      <td>167</td>\n",
       "      <td>5</td>\n",
       "    </tr>\n",
       "    <tr>\n",
       "      <th>1</th>\n",
       "      <td>39</td>\n",
       "      <td>11</td>\n",
       "    </tr>\n",
       "  </tbody>\n",
       "</table>\n",
       "</div>"
      ],
      "text/plain": [
       "col_0       0   1\n",
       "violator         \n",
       "0         167   5\n",
       "1          39  11"
      ]
     },
     "execution_count": 118,
     "metadata": {},
     "output_type": "execute_result"
    }
   ],
   "source": [
    "pred_test = lr.predict(x_test)\n",
    "a_test = pd.crosstab(y_test,pred_test)\n",
    "a_test"
   ]
  },
  {
   "cell_type": "code",
   "execution_count": 119,
   "metadata": {},
   "outputs": [
    {
     "name": "stdout",
     "output_type": "stream",
     "text": [
      " Accuracy : 0.8018018018018018\n",
      "\n",
      " Error : 0.1981981981981982\n",
      "\n",
      " Sensitivity : 0.22\n",
      "\n",
      " Precision : 0.6875\n",
      "\n",
      " Specificity : 0.9709302325581395\n"
     ]
    }
   ],
   "source": [
    "TN = a_test[0][0]\n",
    "FN = a_test[0][1]\n",
    "FP = a_test[1][0]\n",
    "TP = a_test[1][1]\n",
    "Total = a_test.sum().sum()\n",
    "acc_test = (TP + TN) / Total\n",
    "print(' Accuracy :',acc_test)\n",
    "err_test = (FP + FN) / Total\n",
    "print('\\n Error :',err_test)\n",
    "sens_test = (TP / (TP + FN))\n",
    "print('\\n Sensitivity :',sens_test)\n",
    "precision_test = (TP) / (TP + FP)\n",
    "print('\\n Precision :',precision_test)\n",
    "specificity_test = (TN) / (TN + FP)\n",
    "print('\\n Specificity :',specificity_test)"
   ]
  },
  {
   "cell_type": "code",
   "execution_count": 120,
   "metadata": {},
   "outputs": [],
   "source": [
    "df['state'] = df['state'].astype('category')\n",
    "df['crime'] = df['crime'].astype('category')\n",
    "df['male'] = df['male'].astype('category')\n",
    "df['race'] = df['race'].astype('category')"
   ]
  },
  {
   "cell_type": "code",
   "execution_count": 121,
   "metadata": {
    "scrolled": true
   },
   "outputs": [
    {
     "data": {
      "text/html": [
       "<div>\n",
       "<style scoped>\n",
       "    .dataframe tbody tr th:only-of-type {\n",
       "        vertical-align: middle;\n",
       "    }\n",
       "\n",
       "    .dataframe tbody tr th {\n",
       "        vertical-align: top;\n",
       "    }\n",
       "\n",
       "    .dataframe thead th {\n",
       "        text-align: right;\n",
       "    }\n",
       "</style>\n",
       "<table border=\"1\" class=\"dataframe\">\n",
       "  <thead>\n",
       "    <tr style=\"text-align: right;\">\n",
       "      <th></th>\n",
       "      <th>age</th>\n",
       "      <th>time.served</th>\n",
       "      <th>max.sentence</th>\n",
       "      <th>multiple.offenses</th>\n",
       "      <th>violator</th>\n",
       "      <th>male_1</th>\n",
       "      <th>race_2</th>\n",
       "      <th>state_2</th>\n",
       "      <th>state_3</th>\n",
       "      <th>state_4</th>\n",
       "      <th>crime_2</th>\n",
       "      <th>crime_3</th>\n",
       "      <th>crime_4</th>\n",
       "    </tr>\n",
       "  </thead>\n",
       "  <tbody>\n",
       "    <tr>\n",
       "      <th>0</th>\n",
       "      <td>33.2</td>\n",
       "      <td>5.5</td>\n",
       "      <td>18</td>\n",
       "      <td>0</td>\n",
       "      <td>0</td>\n",
       "      <td>1</td>\n",
       "      <td>0</td>\n",
       "      <td>0</td>\n",
       "      <td>0</td>\n",
       "      <td>0</td>\n",
       "      <td>0</td>\n",
       "      <td>0</td>\n",
       "      <td>1</td>\n",
       "    </tr>\n",
       "    <tr>\n",
       "      <th>1</th>\n",
       "      <td>39.7</td>\n",
       "      <td>5.4</td>\n",
       "      <td>12</td>\n",
       "      <td>0</td>\n",
       "      <td>0</td>\n",
       "      <td>0</td>\n",
       "      <td>0</td>\n",
       "      <td>0</td>\n",
       "      <td>0</td>\n",
       "      <td>0</td>\n",
       "      <td>0</td>\n",
       "      <td>1</td>\n",
       "      <td>0</td>\n",
       "    </tr>\n",
       "    <tr>\n",
       "      <th>2</th>\n",
       "      <td>29.5</td>\n",
       "      <td>5.6</td>\n",
       "      <td>12</td>\n",
       "      <td>0</td>\n",
       "      <td>0</td>\n",
       "      <td>1</td>\n",
       "      <td>1</td>\n",
       "      <td>0</td>\n",
       "      <td>0</td>\n",
       "      <td>0</td>\n",
       "      <td>0</td>\n",
       "      <td>1</td>\n",
       "      <td>0</td>\n",
       "    </tr>\n",
       "    <tr>\n",
       "      <th>3</th>\n",
       "      <td>22.4</td>\n",
       "      <td>5.7</td>\n",
       "      <td>18</td>\n",
       "      <td>0</td>\n",
       "      <td>0</td>\n",
       "      <td>1</td>\n",
       "      <td>0</td>\n",
       "      <td>0</td>\n",
       "      <td>0</td>\n",
       "      <td>0</td>\n",
       "      <td>0</td>\n",
       "      <td>0</td>\n",
       "      <td>0</td>\n",
       "    </tr>\n",
       "    <tr>\n",
       "      <th>4</th>\n",
       "      <td>21.6</td>\n",
       "      <td>5.4</td>\n",
       "      <td>12</td>\n",
       "      <td>0</td>\n",
       "      <td>0</td>\n",
       "      <td>1</td>\n",
       "      <td>1</td>\n",
       "      <td>0</td>\n",
       "      <td>0</td>\n",
       "      <td>0</td>\n",
       "      <td>0</td>\n",
       "      <td>0</td>\n",
       "      <td>0</td>\n",
       "    </tr>\n",
       "  </tbody>\n",
       "</table>\n",
       "</div>"
      ],
      "text/plain": [
       "    age  time.served  max.sentence  multiple.offenses  violator  male_1  \\\n",
       "0  33.2          5.5            18                  0         0       1   \n",
       "1  39.7          5.4            12                  0         0       0   \n",
       "2  29.5          5.6            12                  0         0       1   \n",
       "3  22.4          5.7            18                  0         0       1   \n",
       "4  21.6          5.4            12                  0         0       1   \n",
       "\n",
       "   race_2  state_2  state_3  state_4  crime_2  crime_3  crime_4  \n",
       "0       0        0        0        0        0        0        1  \n",
       "1       0        0        0        0        0        1        0  \n",
       "2       1        0        0        0        0        1        0  \n",
       "3       0        0        0        0        0        0        0  \n",
       "4       1        0        0        0        0        0        0  "
      ]
     },
     "execution_count": 121,
     "metadata": {},
     "output_type": "execute_result"
    }
   ],
   "source": [
    "df_new = pd.get_dummies(df,drop_first = True)\n",
    "df_new.head()"
   ]
  },
  {
   "cell_type": "code",
   "execution_count": 122,
   "metadata": {},
   "outputs": [
    {
     "name": "stdout",
     "output_type": "stream",
     "text": [
      "    age  time.served  max.sentence  multiple.offenses  male_1  race_2  \\\n",
      "0  33.2          5.5            18                  0       1       0   \n",
      "1  39.7          5.4            12                  0       0       0   \n",
      "2  29.5          5.6            12                  0       1       1   \n",
      "3  22.4          5.7            18                  0       1       0   \n",
      "4  21.6          5.4            12                  0       1       1   \n",
      "\n",
      "   state_2  state_3  state_4  crime_2  crime_3  crime_4  \n",
      "0        0        0        0        0        0        1  \n",
      "1        0        0        0        0        1        0  \n",
      "2        0        0        0        0        1        0  \n",
      "3        0        0        0        0        0        0  \n",
      "4        0        0        0        0        0        0  \n"
     ]
    }
   ],
   "source": [
    "x1 = df_new.drop('violator',axis = 1)\n",
    "y1 = df_new['violator']\n",
    "print(x1.head())"
   ]
  },
  {
   "cell_type": "code",
   "execution_count": 123,
   "metadata": {},
   "outputs": [],
   "source": [
    "x_train1,x_test1,y_train1,y_test1 = train_test_split(x1,y1,test_size = 0.3,random_state = 1)"
   ]
  },
  {
   "cell_type": "code",
   "execution_count": 124,
   "metadata": {},
   "outputs": [
    {
     "name": "stderr",
     "output_type": "stream",
     "text": [
      "c:\\users\\dell\\appdata\\local\\programs\\python\\python37\\lib\\site-packages\\sklearn\\linear_model\\logistic.py:433: FutureWarning: Default solver will be changed to 'lbfgs' in 0.22. Specify a solver to silence this warning.\n",
      "  FutureWarning)\n"
     ]
    },
    {
     "data": {
      "text/html": [
       "<div>\n",
       "<style scoped>\n",
       "    .dataframe tbody tr th:only-of-type {\n",
       "        vertical-align: middle;\n",
       "    }\n",
       "\n",
       "    .dataframe tbody tr th {\n",
       "        vertical-align: top;\n",
       "    }\n",
       "\n",
       "    .dataframe thead th {\n",
       "        text-align: right;\n",
       "    }\n",
       "</style>\n",
       "<table border=\"1\" class=\"dataframe\">\n",
       "  <thead>\n",
       "    <tr style=\"text-align: right;\">\n",
       "      <th>col_0</th>\n",
       "      <th>0</th>\n",
       "      <th>1</th>\n",
       "    </tr>\n",
       "    <tr>\n",
       "      <th>violator</th>\n",
       "      <th></th>\n",
       "      <th></th>\n",
       "    </tr>\n",
       "  </thead>\n",
       "  <tbody>\n",
       "    <tr>\n",
       "      <th>0</th>\n",
       "      <td>408</td>\n",
       "      <td>17</td>\n",
       "    </tr>\n",
       "    <tr>\n",
       "      <th>1</th>\n",
       "      <td>50</td>\n",
       "      <td>41</td>\n",
       "    </tr>\n",
       "  </tbody>\n",
       "</table>\n",
       "</div>"
      ],
      "text/plain": [
       "col_0       0   1\n",
       "violator         \n",
       "0         408  17\n",
       "1          50  41"
      ]
     },
     "execution_count": 124,
     "metadata": {},
     "output_type": "execute_result"
    }
   ],
   "source": [
    "lr.fit(x_train1,y_train1)\n",
    "pred_train1 = lr.predict(x_train1)\n",
    "a_train1 = pd.crosstab(y_train1,pred_train1)\n",
    "a_train1"
   ]
  },
  {
   "cell_type": "code",
   "execution_count": 125,
   "metadata": {},
   "outputs": [
    {
     "data": {
      "text/html": [
       "<div>\n",
       "<style scoped>\n",
       "    .dataframe tbody tr th:only-of-type {\n",
       "        vertical-align: middle;\n",
       "    }\n",
       "\n",
       "    .dataframe tbody tr th {\n",
       "        vertical-align: top;\n",
       "    }\n",
       "\n",
       "    .dataframe thead th {\n",
       "        text-align: right;\n",
       "    }\n",
       "</style>\n",
       "<table border=\"1\" class=\"dataframe\">\n",
       "  <thead>\n",
       "    <tr style=\"text-align: right;\">\n",
       "      <th>col_0</th>\n",
       "      <th>0</th>\n",
       "      <th>1</th>\n",
       "    </tr>\n",
       "    <tr>\n",
       "      <th>violator</th>\n",
       "      <th></th>\n",
       "      <th></th>\n",
       "    </tr>\n",
       "  </thead>\n",
       "  <tbody>\n",
       "    <tr>\n",
       "      <th>0</th>\n",
       "      <td>168</td>\n",
       "      <td>4</td>\n",
       "    </tr>\n",
       "    <tr>\n",
       "      <th>1</th>\n",
       "      <td>28</td>\n",
       "      <td>22</td>\n",
       "    </tr>\n",
       "  </tbody>\n",
       "</table>\n",
       "</div>"
      ],
      "text/plain": [
       "col_0       0   1\n",
       "violator         \n",
       "0         168   4\n",
       "1          28  22"
      ]
     },
     "execution_count": 125,
     "metadata": {},
     "output_type": "execute_result"
    }
   ],
   "source": [
    "pred_test1 = lr.predict(x_test1)\n",
    "a_test1 = pd.crosstab(y_test1,pred_test1)\n",
    "a_test1"
   ]
  },
  {
   "cell_type": "code",
   "execution_count": 126,
   "metadata": {},
   "outputs": [
    {
     "name": "stdout",
     "output_type": "stream",
     "text": [
      " Accuracy : 0.8558558558558559\n",
      "\n",
      " Error : 0.14414414414414414\n",
      "\n",
      " Sensitivity : 0.44\n",
      "\n",
      " Precision : 0.8461538461538461\n",
      "\n",
      " Specificity : 0.9767441860465116\n"
     ]
    }
   ],
   "source": [
    "TN1 = a_test1[0][0]\n",
    "FN1 = a_test1[0][1]\n",
    "FP1 = a_test1[1][0]\n",
    "TP1 = a_test1[1][1]\n",
    "Total1 = a_test1.sum().sum()\n",
    "acc_test1 = (TP1 + TN1) / Total1\n",
    "print(' Accuracy :',acc_test1)\n",
    "err_test1 = (FP1 + FN1) / Total1\n",
    "print('\\n Error :',err_test1)\n",
    "sens_test1 = (TP1 / (TP1 + FN1))\n",
    "print('\\n Sensitivity :',sens_test1)\n",
    "precision_test1 = (TP1) / (TP1 + FP1)\n",
    "print('\\n Precision :',precision_test1)\n",
    "specificity_test1 = (TN1) / (TN1 + FP1)\n",
    "print('\\n Specificity :',specificity_test1)"
   ]
  },
  {
   "cell_type": "code",
   "execution_count": 127,
   "metadata": {},
   "outputs": [
    {
     "name": "stdout",
     "output_type": "stream",
     "text": [
      "Optimization terminated successfully.\n",
      "         Current function value: 0.310934\n",
      "         Iterations 8\n",
      "                           Logit Regression Results                           \n",
      "==============================================================================\n",
      "Dep. Variable:               violator   No. Observations:                  516\n",
      "Model:                          Logit   Df Residuals:                      503\n",
      "Method:                           MLE   Df Model:                           12\n",
      "Date:                Sun, 30 Dec 2018   Pseudo R-squ.:                  0.3325\n",
      "Time:                        12:43:53   Log-Likelihood:                -160.44\n",
      "converged:                       True   LL-Null:                       -240.36\n",
      "                                        LLR p-value:                 5.646e-28\n",
      "=====================================================================================\n",
      "                        coef    std err          z      P>|z|      [0.025      0.975]\n",
      "-------------------------------------------------------------------------------------\n",
      "const                -4.2574      0.995     -4.277      0.000      -6.209      -2.306\n",
      "age                   0.0060      0.013      0.446      0.656      -0.020       0.032\n",
      "time.served           0.2030      0.068      2.988      0.003       0.070       0.336\n",
      "max.sentence          0.0492      0.045      1.096      0.273      -0.039       0.137\n",
      "multiple.offenses     1.6865      0.332      5.085      0.000       1.036       2.337\n",
      "male_1                0.4883      0.370      1.319      0.187      -0.237       1.214\n",
      "race_2                0.6690      0.327      2.046      0.041       0.028       1.310\n",
      "state_2               0.5455      0.407      1.340      0.180      -0.252       1.343\n",
      "state_3               1.1476      0.458      2.505      0.012       0.250       2.046\n",
      "state_4              -3.4804      0.582     -5.975      0.000      -4.622      -2.339\n",
      "crime_2              -0.1850      0.449     -0.412      0.681      -1.066       0.696\n",
      "crime_3              -0.4744      0.352     -1.347      0.178      -1.165       0.216\n",
      "crime_4              -0.4717      0.537     -0.879      0.379      -1.523       0.580\n",
      "=====================================================================================\n"
     ]
    }
   ],
   "source": [
    "x2 = add_constant(x_train1)\n",
    "logit = sm.Logit(y_train1,x2)\n",
    "result = logit.fit()\n",
    "print(result.summary())"
   ]
  },
  {
   "cell_type": "code",
   "execution_count": 128,
   "metadata": {},
   "outputs": [],
   "source": [
    "pred_1 = lr.predict_proba(x_test1)\n",
    "#pred_2 = lr.predict_proba(x_train1)"
   ]
  },
  {
   "cell_type": "code",
   "execution_count": 129,
   "metadata": {},
   "outputs": [
    {
     "name": "stderr",
     "output_type": "stream",
     "text": [
      "c:\\users\\dell\\appdata\\local\\programs\\python\\python37\\lib\\site-packages\\matplotlib\\figure.py:98: MatplotlibDeprecationWarning: \n",
      "Adding an axes using the same arguments as a previous axes currently reuses the earlier instance.  In a future version, a new instance will always be created and returned.  Meanwhile, this warning can be suppressed, and the future behavior ensured, by passing a unique label to each axes instance.\n",
      "  \"Adding an axes using the same arguments as a previous axes \"\n"
     ]
    },
    {
     "data": {
      "text/plain": [
       "(-0.05, 1.05)"
      ]
     },
     "execution_count": 129,
     "metadata": {},
     "output_type": "execute_result"
    },
    {
     "data": {
      "image/png": "[encoded data removed]",
      "text/plain": [
       "<Figure size 432x288 with 1 Axes>"
      ]
     },
     "metadata": {
      "needs_background": "light"
     },
     "output_type": "display_data"
    }
   ],
   "source": [
    "fpr,tpr,threshold = metrics.roc_curve(y_test1,pred_1[:,1])\n",
    "plt.plot(fpr,tpr,label = 'Roc curve',color = 'b')\n",
    "plt.axes().set_aspect('equal')\n",
    "plt.xlim([-0.05,1.05])\n",
    "plt.ylim([-0.05,1.05])"
   ]
  },
  {
   "cell_type": "code",
   "execution_count": 130,
   "metadata": {},
   "outputs": [
    {
     "data": {
      "text/plain": [
       "0.9049999999999999"
      ]
     },
     "execution_count": 130,
     "metadata": {},
     "output_type": "execute_result"
    }
   ],
   "source": [
    "AUC = metrics.auc(fpr,tpr)\n",
    "AUC"
   ]
  },
  {
   "cell_type": "markdown",
   "metadata": {},
   "source": [
    "# Trying After Droping the Age column"
   ]
  },
  {
   "cell_type": "code",
   "execution_count": 131,
   "metadata": {},
   "outputs": [
    {
     "name": "stdout",
     "output_type": "stream",
     "text": [
      "   time.served  max.sentence  multiple.offenses  male_1  race_2  state_2  \\\n",
      "0          5.5            18                  0       1       0        0   \n",
      "1          5.4            12                  0       0       0        0   \n",
      "2          5.6            12                  0       1       1        0   \n",
      "3          5.7            18                  0       1       0        0   \n",
      "4          5.4            12                  0       1       1        0   \n",
      "\n",
      "   state_3  state_4  crime_2  crime_3  crime_4  \n",
      "0        0        0        0        0        1  \n",
      "1        0        0        0        1        0  \n",
      "2        0        0        0        1        0  \n",
      "3        0        0        0        0        0  \n",
      "4        0        0        0        0        0  \n"
     ]
    }
   ],
   "source": [
    "x3 = df_new.drop(['violator','age'],axis = 1)\n",
    "y3 = df_new['violator']\n",
    "print(x3.head())"
   ]
  },
  {
   "cell_type": "code",
   "execution_count": 132,
   "metadata": {},
   "outputs": [],
   "source": [
    "x_train3,x_test3,y_train3,y_test3 = train_test_split(x3,y3,test_size = 0.3,random_state = 1)"
   ]
  },
  {
   "cell_type": "code",
   "execution_count": 133,
   "metadata": {},
   "outputs": [
    {
     "name": "stderr",
     "output_type": "stream",
     "text": [
      "c:\\users\\dell\\appdata\\local\\programs\\python\\python37\\lib\\site-packages\\sklearn\\linear_model\\logistic.py:433: FutureWarning: Default solver will be changed to 'lbfgs' in 0.22. Specify a solver to silence this warning.\n",
      "  FutureWarning)\n"
     ]
    },
    {
     "data": {
      "text/html": [
       "<div>\n",
       "<style scoped>\n",
       "    .dataframe tbody tr th:only-of-type {\n",
       "        vertical-align: middle;\n",
       "    }\n",
       "\n",
       "    .dataframe tbody tr th {\n",
       "        vertical-align: top;\n",
       "    }\n",
       "\n",
       "    .dataframe thead th {\n",
       "        text-align: right;\n",
       "    }\n",
       "</style>\n",
       "<table border=\"1\" class=\"dataframe\">\n",
       "  <thead>\n",
       "    <tr style=\"text-align: right;\">\n",
       "      <th>col_0</th>\n",
       "      <th>0</th>\n",
       "      <th>1</th>\n",
       "    </tr>\n",
       "    <tr>\n",
       "      <th>violator</th>\n",
       "      <th></th>\n",
       "      <th></th>\n",
       "    </tr>\n",
       "  </thead>\n",
       "  <tbody>\n",
       "    <tr>\n",
       "      <th>0</th>\n",
       "      <td>408</td>\n",
       "      <td>17</td>\n",
       "    </tr>\n",
       "    <tr>\n",
       "      <th>1</th>\n",
       "      <td>50</td>\n",
       "      <td>41</td>\n",
       "    </tr>\n",
       "  </tbody>\n",
       "</table>\n",
       "</div>"
      ],
      "text/plain": [
       "col_0       0   1\n",
       "violator         \n",
       "0         408  17\n",
       "1          50  41"
      ]
     },
     "execution_count": 133,
     "metadata": {},
     "output_type": "execute_result"
    }
   ],
   "source": [
    "lr.fit(x_train3,y_train3)\n",
    "pred_train3 = lr.predict(x_train3)\n",
    "a_train3 = pd.crosstab(y_train3,pred_train3)\n",
    "a_train3"
   ]
  },
  {
   "cell_type": "code",
   "execution_count": 149,
   "metadata": {},
   "outputs": [
    {
     "data": {
      "text/html": [
       "<div>\n",
       "<style scoped>\n",
       "    .dataframe tbody tr th:only-of-type {\n",
       "        vertical-align: middle;\n",
       "    }\n",
       "\n",
       "    .dataframe tbody tr th {\n",
       "        vertical-align: top;\n",
       "    }\n",
       "\n",
       "    .dataframe thead th {\n",
       "        text-align: right;\n",
       "    }\n",
       "</style>\n",
       "<table border=\"1\" class=\"dataframe\">\n",
       "  <thead>\n",
       "    <tr style=\"text-align: right;\">\n",
       "      <th>col_0</th>\n",
       "      <th>0</th>\n",
       "      <th>1</th>\n",
       "    </tr>\n",
       "    <tr>\n",
       "      <th>violator</th>\n",
       "      <th></th>\n",
       "      <th></th>\n",
       "    </tr>\n",
       "  </thead>\n",
       "  <tbody>\n",
       "    <tr>\n",
       "      <th>0</th>\n",
       "      <td>168</td>\n",
       "      <td>4</td>\n",
       "    </tr>\n",
       "    <tr>\n",
       "      <th>1</th>\n",
       "      <td>29</td>\n",
       "      <td>21</td>\n",
       "    </tr>\n",
       "  </tbody>\n",
       "</table>\n",
       "</div>"
      ],
      "text/plain": [
       "col_0       0   1\n",
       "violator         \n",
       "0         168   4\n",
       "1          29  21"
      ]
     },
     "execution_count": 149,
     "metadata": {},
     "output_type": "execute_result"
    }
   ],
   "source": [
    "pred_test3 = lr.predict_proba(x_test3)\n",
    "predlist = []\n",
    "for i in pred_test3[:,1]:\n",
    "    if i>=0.5:\n",
    "        predlist.append(1)\n",
    "    else:\n",
    "        predlist.append(0)\n",
    "pred_3_test = np.array(predlist)\n",
    "a_test3 = pd.crosstab(y_test3,pred_3_test)\n",
    "a_test3"
   ]
  },
  {
   "cell_type": "code",
   "execution_count": 150,
   "metadata": {},
   "outputs": [
    {
     "name": "stdout",
     "output_type": "stream",
     "text": [
      " Accuracy : 0.8513513513513513\n",
      "\n",
      " Error : 0.14864864864864866\n",
      "\n",
      " Sensitivity : 0.42\n",
      "\n",
      " Precision : 0.84\n",
      "\n",
      " Specificity : 0.9767441860465116\n"
     ]
    }
   ],
   "source": [
    "TN3 = a_test3[0][0]\n",
    "FN3 = a_test3[0][1]\n",
    "FP3 = a_test3[1][0]\n",
    "TP3 = a_test3[1][1]\n",
    "Total3 = a_test3.sum().sum()\n",
    "acc_test3 = (TP3 + TN3) / Total3\n",
    "print(' Accuracy :',acc_test3)\n",
    "err_test3 = (FP3 + FN3) / Total3\n",
    "print('\\n Error :',err_test3)\n",
    "sens_test3 = (TP3 / (TP3 + FN3))\n",
    "print('\\n Sensitivity :',sens_test3)\n",
    "precision_test3 = (TP3) / (TP3 + FP3)\n",
    "print('\\n Precision :',precision_test3)\n",
    "specificity_test3 = (TN3) / (TN3 + FP3)\n",
    "print('\\n Specificity :',specificity_test3)"
   ]
  },
  {
   "cell_type": "code",
   "execution_count": 151,
   "metadata": {},
   "outputs": [
    {
     "name": "stdout",
     "output_type": "stream",
     "text": [
      "Optimization terminated successfully.\n",
      "         Current function value: 0.311126\n",
      "         Iterations 8\n",
      "                           Logit Regression Results                           \n",
      "==============================================================================\n",
      "Dep. Variable:               violator   No. Observations:                  516\n",
      "Model:                          Logit   Df Residuals:                      504\n",
      "Method:                           MLE   Df Model:                           11\n",
      "Date:                Sun, 30 Dec 2018   Pseudo R-squ.:                  0.3321\n",
      "Time:                        13:06:25   Log-Likelihood:                -160.54\n",
      "converged:                       True   LL-Null:                       -240.36\n",
      "                                        LLR p-value:                 1.580e-28\n",
      "=====================================================================================\n",
      "                        coef    std err          z      P>|z|      [0.025      0.975]\n",
      "-------------------------------------------------------------------------------------\n",
      "const                -4.0326      0.854     -4.722      0.000      -5.707      -2.359\n",
      "time.served           0.2038      0.068      2.991      0.003       0.070       0.337\n",
      "max.sentence          0.0482      0.045      1.078      0.281      -0.039       0.136\n",
      "multiple.offenses     1.6883      0.331      5.095      0.000       1.039       2.338\n",
      "male_1                0.4857      0.370      1.314      0.189      -0.239       1.210\n",
      "race_2                0.6605      0.326      2.025      0.043       0.021       1.300\n",
      "state_2               0.5408      0.407      1.329      0.184      -0.257       1.339\n",
      "state_3               1.1359      0.457      2.483      0.013       0.239       2.032\n",
      "state_4              -3.4879      0.582     -5.991      0.000      -4.629      -2.347\n",
      "crime_2              -0.1888      0.450     -0.420      0.674      -1.070       0.692\n",
      "crime_3              -0.4695      0.352     -1.335      0.182      -1.159       0.220\n",
      "crime_4              -0.4352      0.530     -0.820      0.412      -1.475       0.605\n",
      "=====================================================================================\n"
     ]
    }
   ],
   "source": [
    "x_ = add_constant(x_train3)\n",
    "logit1 = sm.Logit(y_train3,x_)\n",
    "result1 = logit1.fit()\n",
    "print(result1.summary())"
   ]
  },
  {
   "cell_type": "code",
   "execution_count": 152,
   "metadata": {},
   "outputs": [],
   "source": [
    "pred_1_ = lr.predict_proba(x_test3)\n",
    "pred_2_ = lr.predict_proba(x_train3)"
   ]
  },
  {
   "cell_type": "code",
   "execution_count": 153,
   "metadata": {},
   "outputs": [
    {
     "name": "stderr",
     "output_type": "stream",
     "text": [
      "c:\\users\\dell\\appdata\\local\\programs\\python\\python37\\lib\\site-packages\\matplotlib\\figure.py:98: MatplotlibDeprecationWarning: \n",
      "Adding an axes using the same arguments as a previous axes currently reuses the earlier instance.  In a future version, a new instance will always be created and returned.  Meanwhile, this warning can be suppressed, and the future behavior ensured, by passing a unique label to each axes instance.\n",
      "  \"Adding an axes using the same arguments as a previous axes \"\n"
     ]
    },
    {
     "data": {
      "text/plain": [
       "(-0.05, 1.05)"
      ]
     },
     "execution_count": 153,
     "metadata": {},
     "output_type": "execute_result"
    },
    {
     "data": {
      "image/png": "[encoded data removed]",
      "text/plain": [
       "<Figure size 432x288 with 1 Axes>"
      ]
     },
     "metadata": {
      "needs_background": "light"
     },
     "output_type": "display_data"
    }
   ],
   "source": [
    "fpr1,tpr1,threshold1 = metrics.roc_curve(y_test3,pred_1_[:,1])\n",
    "plt.plot(fpr1,tpr1,label = 'Roc curve',color = 'b')\n",
    "plt.axes().set_aspect('equal')\n",
    "plt.xlim([-0.05,1.05])\n",
    "plt.ylim([-0.05,1.05])"
   ]
  },
  {
   "cell_type": "code",
   "execution_count": 154,
   "metadata": {},
   "outputs": [
    {
     "data": {
      "text/plain": [
       "0.9062790697674419"
      ]
     },
     "execution_count": 154,
     "metadata": {},
     "output_type": "execute_result"
    }
   ],
   "source": [
    "AUC1 = metrics.auc(fpr,tpr)\n",
    "AUC1"
   ]
  },
  {
   "cell_type": "code",
   "execution_count": null,
   "metadata": {},
   "outputs": [],
   "source": []
  }
 ],
 "metadata": {
  "kernelspec": {
   "display_name": "Python 3",
   "language": "python",
   "name": "python3"
  },
  "language_info": {
   "codemirror_mode": {
    "name": "ipython",
    "version": 3
   },
   "file_extension": ".py",
   "mimetype": "text/x-python",
   "name": "python",
   "nbconvert_exporter": "python",
   "pygments_lexer": "ipython3",
   "version": "3.7.0"
  }
 },
 "nbformat": 4,
 "nbformat_minor": 2
}

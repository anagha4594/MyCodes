{
 "cells": [
  {
   "cell_type": "code",
   "execution_count": 1,
   "metadata": {},
   "outputs": [],
   "source": [
    "#!pip install xgboost    # have to install the first time. Does not come with scikitlearn"
   ]
  },
  {
   "cell_type": "code",
   "execution_count": 2,
   "metadata": {},
   "outputs": [],
   "source": [
    "import xgboost as xgb\n",
    "import pandas as pd\n",
    "import numpy as np\n",
    "import statsmodels.api as sm\n",
    "from sklearn.model_selection import train_test_split\n",
    "from sklearn.model_selection import GridSearchCV\n",
    "from sklearn.metrics import mean_squared_error\n",
    "import matplotlib.pyplot as plt"
   ]
  },
  {
   "cell_type": "code",
   "execution_count": 3,
   "metadata": {},
   "outputs": [],
   "source": [
    "power_plant = pd.read_excel(\"Folds5x2_pp.xlsx\")\n",
    "\n",
    "\n",
    "X = power_plant.drop(\"PE\", axis = 1)   # Drop PE from independent variables\n",
    "y = power_plant['PE'].values           # Hold PE as the dependent variable. PE - Net Hourly Power ouput\n",
    "\n",
    "X_train, X_test, y_train, y_test = train_test_split(X, y,test_size = 0.3, random_state=1)"
   ]
  },
  {
   "cell_type": "code",
   "execution_count": 4,
   "metadata": {},
   "outputs": [],
   "source": [
    "# Xgb takes data in matrix form both for training and testing...\n",
    "#Dmatrix is the data matrix format for Xtreme gradient boosting\n",
    "\n",
    "DM_train = xgb.DMatrix(data = X_train, \n",
    "                       label = y_train)  \n",
    "DM_test =  xgb.DMatrix(data = X_test,\n",
    "                       label = y_test)"
   ]
  },
  {
   "cell_type": "code",
   "execution_count": 14,
   "metadata": {},
   "outputs": [],
   "source": [
    "# setting the hyper parameters ... Ref https://xgboost.readthedocs.io/en/latest/python/python_api.html\n",
    "\n",
    "gbm_param_grid = {\n",
    "     'colsample_bytree': np.linspace(0.5, 0.9, 5),  # generate 5 numbers between .5 and .9 \n",
    "     'n_estimators':[10, 200], # no of trees 10 to 200\n",
    "     'max_depth': [10, 15, 20, 25]\n",
    "}"
   ]
  },
  {
   "cell_type": "code",
   "execution_count": 15,
   "metadata": {},
   "outputs": [],
   "source": [
    "gbm = xgb.XGBRegressor()"
   ]
  },
  {
   "cell_type": "code",
   "execution_count": 16,
   "metadata": {},
   "outputs": [],
   "source": [
    "grid_mse = GridSearchCV(estimator = gbm, param_grid = gbm_param_grid, scoring = 'neg_mean_squared_error', cv = 5, verbose = 1)"
   ]
  },
  {
   "cell_type": "code",
   "execution_count": null,
   "metadata": {},
   "outputs": [
    {
     "name": "stdout",
     "output_type": "stream",
     "text": [
      "Fitting 5 folds for each of 40 candidates, totalling 200 fits\n"
     ]
    }
   ],
   "source": [
    "grid_mse.fit(X_train, y_train)\n",
    "print(\"Best parameters found: \",grid_mse.best_params_)\n",
    "print(\"Lowest RMSE found: \", np.sqrt(np.abs(grid_mse.best_score_)))"
   ]
  },
  {
   "cell_type": "code",
   "execution_count": null,
   "metadata": {},
   "outputs": [],
   "source": [
    "pred = grid_mse.predict(X_test)\n",
    "print(\"Root mean square error for test dataset: {}\".format(np.round(np.sqrt(mean_squared_error(y_test, pred)), 2)))"
   ]
  },
  {
   "cell_type": "code",
   "execution_count": null,
   "metadata": {},
   "outputs": [],
   "source": [
    "test = pd.DataFrame({\"prediction\": pred, \"observed\": y_test.flatten()})\n",
    "lowess = sm.nonparametric.lowess\n",
    "z = lowess(pred.flatten(), y_test.flatten())\n",
    "test.plot(figsize = [14,8],\n",
    "          x =\"prediction\", y = \"observed\", kind = \"scatter\", color = 'darkred')\n",
    "plt.title(\"Extreme Gradient Boosting: Prediction Vs Test Data\", fontsize = 18, color = \"darkgreen\")\n",
    "plt.xlabel(\"Predicted Power Output\", fontsize = 18) \n",
    "plt.ylabel(\"Observed Power Output\", fontsize = 18)\n",
    "plt.plot(z[:,0], z[:,1], color = \"blue\", lw= 3)\n",
    "plt.show()"
   ]
  },
  {
   "cell_type": "markdown",
   "metadata": {},
   "source": [
    "# Bootstrap sampling"
   ]
  },
  {
   "cell_type": "code",
   "execution_count": 10,
   "metadata": {
    "scrolled": true
   },
   "outputs": [
    {
     "name": "stdout",
     "output_type": "stream",
     "text": [
      "96.07494356559107\n",
      "95.82068009811609\n",
      "95.77373339044073\n",
      "96.0811878867162\n",
      "95.92396047284727\n",
      "96.09082589409971\n",
      "95.92382623855377\n",
      "96.22387487136189\n",
      "95.80329146642377\n",
      "95.87680747613912\n",
      "95.9928858992187\n",
      "96.05969151760713\n",
      "95.81686717155495\n",
      "95.99912057845474\n",
      "95.88973011328368\n",
      "96.09800952099987\n",
      "96.0865895570061\n",
      "96.07992327518686\n",
      "95.98712116574157\n",
      "95.9961570420356\n",
      "95.7955487802398\n",
      "96.0355729868102\n",
      "96.2336873382093\n",
      "96.03787062214299\n",
      "95.9170953388782\n",
      "95.9960802270735\n",
      "96.19505578691604\n",
      "95.98101369387525\n",
      "96.17054310003631\n",
      "96.05564342801564\n",
      "96.06829862670669\n",
      "96.36785626266216\n",
      "96.007434942645\n",
      "96.20965761672313\n",
      "95.90891775360298\n",
      "95.84656780333047\n",
      "96.06092260321986\n",
      "96.14797370312816\n",
      "95.90514824080854\n",
      "96.05725821637334\n",
      "95.90037024367425\n",
      "95.78357642476502\n",
      "95.9546622190629\n",
      "95.9389851890012\n",
      "96.14925933224636\n",
      "95.82134390184348\n",
      "96.02227898956617\n",
      "96.18210014205846\n",
      "95.85169455912589\n",
      "95.89681464716465\n",
      "96.21588504052033\n",
      "95.75010923210206\n",
      "96.1137280425391\n",
      "96.16829961896717\n",
      "96.04535799526856\n",
      "95.90913928750331\n",
      "95.87303418641034\n",
      "96.18351717268183\n",
      "96.02306923073272\n",
      "96.06572004184895\n",
      "96.34049973529486\n",
      "96.01248048177162\n",
      "96.06838522310377\n",
      "95.81124425457948\n",
      "95.94563265512798\n",
      "95.96936328347094\n",
      "95.99155940877829\n",
      "96.11987032456076\n",
      "95.9012809718345\n",
      "95.92803326761002\n",
      "95.94040772748325\n",
      "95.82623884345853\n",
      "95.92235278482342\n",
      "95.99661978853032\n",
      "96.04176655773142\n",
      "96.19094279239444\n",
      "95.92914530382762\n",
      "96.08622129102594\n",
      "96.28563744547208\n",
      "95.80959578532513\n",
      "95.81074651290808\n",
      "95.95495533763452\n",
      "96.01063074034818\n",
      "96.03754712399298\n",
      "96.16433136478055\n",
      "95.88496715322307\n",
      "95.96385470923603\n",
      "96.09202801620322\n",
      "95.86997482732119\n",
      "96.2271257878834\n",
      "96.01639958310281\n",
      "96.07650970410602\n",
      "95.99363547516943\n",
      "95.7937206482619\n",
      "95.85367608204551\n",
      "95.87528196717781\n",
      "95.91385339174808\n",
      "95.8808191297218\n",
      "96.14275093774174\n",
      "95.87547897444189\n"
     ]
    }
   ],
   "source": [
    "\n",
    "from sklearn.utils import resample\n",
    "\n",
    "values=power_plant.values\n",
    "# configure bootstrap\n",
    "n_iterations = 100          # Number of bootstrap samples to create\n",
    "n_size = int(len(power_plant) * 0.50)    # picking only 50 % of the given data in every bootstrap sample\n",
    "\n",
    "# run bootstrap\n",
    "stats = list()\n",
    "for i in range(n_iterations):\n",
    "    # prepare train and test sets\n",
    "    train = resample(values, n_samples=n_size)  # Sampling with replacement \n",
    "    test = np.array([x for x in values if x.tolist() not in train.tolist()])  # picking rest of the data not considered in sample\n",
    "    # fit model\n",
    "    gbm1 = xgb.XGBRegressor(colsample_bytre=0.8,max_depth=15,n_estimators= 200)\n",
    "    gbm1.fit(train[:,:-1], train[:,-1])\n",
    "    # evaluate model\n",
    "    predictions = gbm1.predict(test[:,:-1])\n",
    "    sse=np.sum((predictions-test[:,-1])**2)# caution, overall accuracy score can mislead when classes are imbalanced\n",
    "    tss=np.sum((test[:,-1]-np.mean(test[:,-1]))**2)\n",
    "    r2=1-(sse/tss)\n",
    "    print(r2*100)\n",
    "    stats.append(r2)"
   ]
  },
  {
   "cell_type": "markdown",
   "metadata": {},
   "source": [
    "# confidence interval"
   ]
  },
  {
   "cell_type": "code",
   "execution_count": 13,
   "metadata": {},
   "outputs": [
    {
     "data": {
      "image/png": "[encoded data removed]",
      "text/plain": [
       "<Figure size 432x288 with 1 Axes>"
      ]
     },
     "metadata": {
      "needs_background": "light"
     },
     "output_type": "display_data"
    },
    {
     "name": "stdout",
     "output_type": "stream",
     "text": [
      "95.0 confidence interval 95.8% and 96.3%\n"
     ]
    }
   ],
   "source": [
    "from matplotlib import pyplot\n",
    "# plot scores\n",
    "pyplot.hist(stats)\n",
    "pyplot.show()\n",
    "# confidence intervals\n",
    "alpha = 0.95                             # for 95% confidence \n",
    "p = ((1.0-alpha)/2.0) * 100              # tail regions on right and left .25 on each side indicated by P value (border)\n",
    "lower = max(0.0, np.percentile(stats, p))  \n",
    "p = (alpha+((1.0-alpha)/2.0)) * 100\n",
    "upper = min(1.0, np.percentile(stats, p))\n",
    "print('%.1f confidence interval %.1f%% and %.1f%%' % (alpha*100, lower*100, upper*100))"
   ]
  },
  {
   "cell_type": "code",
   "execution_count": null,
   "metadata": {},
   "outputs": [],
   "source": []
  }
 ],
 "metadata": {
  "kernelspec": {
   "display_name": "Python 3",
   "language": "python",
   "name": "python3"
  },
  "language_info": {
   "codemirror_mode": {
    "name": "ipython",
    "version": 3
   },
   "file_extension": ".py",
   "mimetype": "text/x-python",
   "name": "python",
   "nbconvert_exporter": "python",
   "pygments_lexer": "ipython3",
   "version": "3.7.0"
  }
 },
 "nbformat": 4,
 "nbformat_minor": 2
}
